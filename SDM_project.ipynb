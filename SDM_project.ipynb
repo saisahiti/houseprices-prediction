{
  "cells": [
    {
      "cell_type": "code",
      "execution_count": null,
      "metadata": {
        "id": "Uolgf1rxTHRv"
      },
      "outputs": [],
      "source": [
        "rm (list = ls())"
      ]
    },
    {
      "cell_type": "markdown",
      "metadata": {
        "id": "ZipWJiwO1XxR"
      },
      "source": [
        "# New Section"
      ]
    },
    {
      "cell_type": "code",
      "execution_count": null,
      "metadata": {
        "colab": {
          "base_uri": "https://localhost:8080/"
        },
        "id": "ajsRnV5bPNSF",
        "outputId": "f30d7da4-ec17-4603-e890-b65ec09a40b1"
      },
      "outputs": [
        {
          "output_type": "stream",
          "name": "stderr",
          "text": [
            "Installing package into ‘/usr/local/lib/R/site-library’\n",
            "(as ‘lib’ is unspecified)\n",
            "\n"
          ]
        }
      ],
      "source": [
        "install.packages(\"caret\")"
      ]
    },
    {
      "cell_type": "code",
      "execution_count": null,
      "metadata": {
        "colab": {
          "base_uri": "https://localhost:8080/"
        },
        "id": "IAgBYcvUXRwZ",
        "outputId": "f881fdf0-45c0-4031-8d2c-120cfbc01c6b"
      },
      "outputs": [
        {
          "output_type": "stream",
          "name": "stderr",
          "text": [
            "Installing package into ‘/usr/local/lib/R/site-library’\n",
            "(as ‘lib’ is unspecified)\n",
            "\n"
          ]
        }
      ],
      "source": [
        "install.packages(\"MASS\")"
      ]
    },
    {
      "cell_type": "code",
      "execution_count": null,
      "metadata": {
        "colab": {
          "base_uri": "https://localhost:8080/"
        },
        "id": "sn8zZOIMXW7y",
        "outputId": "c58a60bd-9ea5-4d43-e10d-4cbfb9a56fc6"
      },
      "outputs": [
        {
          "output_type": "stream",
          "name": "stderr",
          "text": [
            "Installing package into ‘/usr/local/lib/R/site-library’\n",
            "(as ‘lib’ is unspecified)\n",
            "\n"
          ]
        }
      ],
      "source": [
        "install.packages(\"dplyr\")"
      ]
    },
    {
      "cell_type": "code",
      "execution_count": null,
      "metadata": {
        "colab": {
          "base_uri": "https://localhost:8080/"
        },
        "id": "rpUAynhTXcWY",
        "outputId": "223aa963-ef5c-4053-ac55-f3b85d06f5a9"
      },
      "outputs": [
        {
          "output_type": "stream",
          "name": "stderr",
          "text": [
            "Installing package into ‘/usr/local/lib/R/site-library’\n",
            "(as ‘lib’ is unspecified)\n",
            "\n"
          ]
        }
      ],
      "source": [
        "install.packages(\"knitr\")"
      ]
    },
    {
      "cell_type": "code",
      "execution_count": null,
      "metadata": {
        "colab": {
          "base_uri": "https://localhost:8080/"
        },
        "id": "gIzmxuVNXhSN",
        "outputId": "165192dc-0747-4b1d-f121-fb67655a9b01"
      },
      "outputs": [
        {
          "output_type": "stream",
          "name": "stderr",
          "text": [
            "Installing package into ‘/usr/local/lib/R/site-library’\n",
            "(as ‘lib’ is unspecified)\n",
            "\n"
          ]
        }
      ],
      "source": [
        "install.packages(\"mice\")"
      ]
    },
    {
      "cell_type": "code",
      "execution_count": null,
      "metadata": {
        "colab": {
          "base_uri": "https://localhost:8080/"
        },
        "id": "U9BH4M-bQTE9",
        "outputId": "34fa74ea-5c77-47be-d3ab-301e0c47095b"
      },
      "outputs": [
        {
          "output_type": "stream",
          "name": "stderr",
          "text": [
            "Installing package into ‘/usr/local/lib/R/site-library’\n",
            "(as ‘lib’ is unspecified)\n",
            "\n"
          ]
        }
      ],
      "source": [
        "install.packages(\"tidyverse\")"
      ]
    },
    {
      "cell_type": "code",
      "execution_count": null,
      "metadata": {
        "colab": {
          "base_uri": "https://localhost:8080/"
        },
        "id": "gF3b94kNTCZu",
        "outputId": "b23b3b5b-9afd-4f11-db8b-dc849071e499"
      },
      "outputs": [
        {
          "output_type": "stream",
          "name": "stderr",
          "text": [
            "Installing package into ‘/usr/local/lib/R/site-library’\n",
            "(as ‘lib’ is unspecified)\n",
            "\n"
          ]
        }
      ],
      "source": [
        "install.packages(\"xgboost\")"
      ]
    },
    {
      "cell_type": "code",
      "execution_count": null,
      "metadata": {
        "colab": {
          "base_uri": "https://localhost:8080/"
        },
        "id": "q6FV2B4tLS9W",
        "outputId": "88dc31c9-31c9-48dd-de3b-ebe985aa3ac0"
      },
      "outputs": [
        {
          "output_type": "stream",
          "name": "stderr",
          "text": [
            "Installing package into ‘/usr/local/lib/R/site-library’\n",
            "(as ‘lib’ is unspecified)\n",
            "\n"
          ]
        }
      ],
      "source": [
        "install.packages(\"ggplot2\")"
      ]
    },
    {
      "cell_type": "code",
      "execution_count": null,
      "metadata": {
        "colab": {
          "base_uri": "https://localhost:8080/"
        },
        "id": "R5TJELanLd3V",
        "outputId": "19fd755a-ce60-46e0-d3dd-adf59ccf87f9"
      },
      "outputs": [
        {
          "output_type": "stream",
          "name": "stderr",
          "text": [
            "Installing package into ‘/usr/local/lib/R/site-library’\n",
            "(as ‘lib’ is unspecified)\n",
            "\n"
          ]
        }
      ],
      "source": [
        "install.packages(\"plyr\")"
      ]
    },
    {
      "cell_type": "code",
      "execution_count": null,
      "metadata": {
        "colab": {
          "base_uri": "https://localhost:8080/"
        },
        "id": "2IesVy1tLt0j",
        "outputId": "0f3d42a8-3ad3-4832-ef3e-219bed662d6a"
      },
      "outputs": [
        {
          "output_type": "stream",
          "name": "stderr",
          "text": [
            "Installing package into ‘/usr/local/lib/R/site-library’\n",
            "(as ‘lib’ is unspecified)\n",
            "\n"
          ]
        }
      ],
      "source": [
        "install.packages(\"dplyr\")"
      ]
    },
    {
      "cell_type": "code",
      "execution_count": null,
      "metadata": {
        "colab": {
          "base_uri": "https://localhost:8080/"
        },
        "id": "bKSuoOqzL8yS",
        "outputId": "ace2f3fb-ea9a-4a79-9710-ae5b1f8da4a8"
      },
      "outputs": [
        {
          "output_type": "stream",
          "name": "stderr",
          "text": [
            "Installing package into ‘/usr/local/lib/R/site-library’\n",
            "(as ‘lib’ is unspecified)\n",
            "\n"
          ]
        }
      ],
      "source": [
        "install.packages(\"corrplot\")"
      ]
    },
    {
      "cell_type": "code",
      "execution_count": null,
      "metadata": {
        "colab": {
          "base_uri": "https://localhost:8080/"
        },
        "id": "6k5RbVMzMBhg",
        "outputId": "19730ac8-57fd-4197-9d2e-84ad35786830"
      },
      "outputs": [
        {
          "output_type": "stream",
          "name": "stderr",
          "text": [
            "Installing package into ‘/usr/local/lib/R/site-library’\n",
            "(as ‘lib’ is unspecified)\n",
            "\n"
          ]
        }
      ],
      "source": [
        "install.packages(\"gridExtra\")"
      ]
    },
    {
      "cell_type": "code",
      "execution_count": null,
      "metadata": {
        "colab": {
          "base_uri": "https://localhost:8080/"
        },
        "id": "AL7LnQKlMNJz",
        "outputId": "7fa76503-751a-489f-d538-233885e052e2"
      },
      "outputs": [
        {
          "output_type": "stream",
          "name": "stderr",
          "text": [
            "Installing package into ‘/usr/local/lib/R/site-library’\n",
            "(as ‘lib’ is unspecified)\n",
            "\n"
          ]
        }
      ],
      "source": [
        "install.packages(\"scales\")"
      ]
    },
    {
      "cell_type": "code",
      "execution_count": null,
      "metadata": {
        "colab": {
          "base_uri": "https://localhost:8080/"
        },
        "id": "IdswSfqDMZAF",
        "outputId": "fb2d6c2c-d255-4045-da76-d21a354cbf0e"
      },
      "outputs": [
        {
          "output_type": "stream",
          "name": "stderr",
          "text": [
            "Installing package into ‘/usr/local/lib/R/site-library’\n",
            "(as ‘lib’ is unspecified)\n",
            "\n"
          ]
        }
      ],
      "source": [
        "install.packages(\"Rmisc\")"
      ]
    },
    {
      "cell_type": "code",
      "execution_count": null,
      "metadata": {
        "colab": {
          "base_uri": "https://localhost:8080/"
        },
        "id": "xIDgq03FMj9H",
        "outputId": "25c2cf28-8905-4e62-81f7-364d137c1452"
      },
      "outputs": [
        {
          "output_type": "stream",
          "name": "stderr",
          "text": [
            "Installing package into ‘/usr/local/lib/R/site-library’\n",
            "(as ‘lib’ is unspecified)\n",
            "\n"
          ]
        }
      ],
      "source": [
        "install.packages(\"ggrepel\")"
      ]
    },
    {
      "cell_type": "code",
      "execution_count": null,
      "metadata": {
        "colab": {
          "base_uri": "https://localhost:8080/"
        },
        "id": "OC3ZST-CMpt5",
        "outputId": "40f9eb87-580c-403c-e03c-cd46fc493d2a"
      },
      "outputs": [
        {
          "output_type": "stream",
          "name": "stderr",
          "text": [
            "Installing package into ‘/usr/local/lib/R/site-library’\n",
            "(as ‘lib’ is unspecified)\n",
            "\n"
          ]
        }
      ],
      "source": [
        "install.packages(\"randomForest\")"
      ]
    },
    {
      "cell_type": "code",
      "execution_count": null,
      "metadata": {
        "colab": {
          "base_uri": "https://localhost:8080/"
        },
        "id": "J5y1p3WAMuVa",
        "outputId": "53d96e4d-31dd-483a-c4e4-872d13e0b821"
      },
      "outputs": [
        {
          "output_type": "stream",
          "name": "stderr",
          "text": [
            "Installing package into ‘/usr/local/lib/R/site-library’\n",
            "(as ‘lib’ is unspecified)\n",
            "\n"
          ]
        }
      ],
      "source": [
        "install.packages(\"psych\")"
      ]
    },
    {
      "cell_type": "code",
      "execution_count": null,
      "metadata": {
        "colab": {
          "base_uri": "https://localhost:8080/"
        },
        "id": "2GKlSu1O2FwA",
        "outputId": "652a4806-6de5-4c33-9b3e-979e23e21001"
      },
      "outputs": [
        {
          "output_type": "stream",
          "name": "stderr",
          "text": [
            "Loading required package: ggplot2\n",
            "\n",
            "Loading required package: lattice\n",
            "\n",
            "Warning message in system(\"timedatectl\", intern = TRUE):\n",
            "“running command 'timedatectl' had status 1”\n"
          ]
        }
      ],
      "source": [
        "library(caret)"
      ]
    },
    {
      "cell_type": "code",
      "execution_count": null,
      "metadata": {
        "colab": {
          "base_uri": "https://localhost:8080/"
        },
        "id": "ALA3c9MTSy8F",
        "outputId": "f9b2e593-c040-4007-b2f8-e4b2af37c6ae"
      },
      "outputs": [
        {
          "output_type": "stream",
          "name": "stderr",
          "text": [
            "── \u001b[1mAttaching packages\u001b[22m ─────────────────────────────────────── tidyverse 1.3.2 ──\n",
            "\u001b[32m✔\u001b[39m \u001b[34mtibble \u001b[39m 3.1.8      \u001b[32m✔\u001b[39m \u001b[34mdplyr  \u001b[39m 1.0.10\n",
            "\u001b[32m✔\u001b[39m \u001b[34mtidyr  \u001b[39m 1.2.1      \u001b[32m✔\u001b[39m \u001b[34mstringr\u001b[39m 1.4.1 \n",
            "\u001b[32m✔\u001b[39m \u001b[34mreadr  \u001b[39m 2.1.3      \u001b[32m✔\u001b[39m \u001b[34mforcats\u001b[39m 0.5.2 \n",
            "\u001b[32m✔\u001b[39m \u001b[34mpurrr  \u001b[39m 0.3.5      \n",
            "── \u001b[1mConflicts\u001b[22m ────────────────────────────────────────── tidyverse_conflicts() ──\n",
            "\u001b[31m✖\u001b[39m \u001b[34mdplyr\u001b[39m::\u001b[32mfilter()\u001b[39m masks \u001b[34mstats\u001b[39m::filter()\n",
            "\u001b[31m✖\u001b[39m \u001b[34mdplyr\u001b[39m::\u001b[32mlag()\u001b[39m    masks \u001b[34mstats\u001b[39m::lag()\n",
            "\u001b[31m✖\u001b[39m \u001b[34mpurrr\u001b[39m::\u001b[32mlift()\u001b[39m   masks \u001b[34mcaret\u001b[39m::lift()\n"
          ]
        }
      ],
      "source": [
        "library(tidyverse)"
      ]
    },
    {
      "cell_type": "code",
      "execution_count": null,
      "metadata": {
        "colab": {
          "base_uri": "https://localhost:8080/"
        },
        "id": "rtwDL0lVS2Vq",
        "outputId": "71d2b083-57aa-4de4-d28c-e6e637e317b2"
      },
      "outputs": [
        {
          "output_type": "stream",
          "name": "stderr",
          "text": [
            "\n",
            "Attaching package: ‘MASS’\n",
            "\n",
            "\n",
            "The following object is masked from ‘package:dplyr’:\n",
            "\n",
            "    select\n",
            "\n",
            "\n",
            "\n",
            "Attaching package: ‘mice’\n",
            "\n",
            "\n",
            "The following object is masked from ‘package:stats’:\n",
            "\n",
            "    filter\n",
            "\n",
            "\n",
            "The following objects are masked from ‘package:base’:\n",
            "\n",
            "    cbind, rbind\n",
            "\n",
            "\n",
            "\n",
            "Attaching package: ‘xgboost’\n",
            "\n",
            "\n",
            "The following object is masked from ‘package:dplyr’:\n",
            "\n",
            "    slice\n",
            "\n",
            "\n",
            "------------------------------------------------------------------------------\n",
            "\n",
            "You have loaded plyr after dplyr - this is likely to cause problems.\n",
            "If you need functions from both plyr and dplyr, please load plyr first, then dplyr:\n",
            "library(plyr); library(dplyr)\n",
            "\n",
            "------------------------------------------------------------------------------\n",
            "\n",
            "\n",
            "Attaching package: ‘plyr’\n",
            "\n",
            "\n",
            "The following objects are masked from ‘package:dplyr’:\n",
            "\n",
            "    arrange, count, desc, failwith, id, mutate, rename, summarise,\n",
            "    summarize\n",
            "\n",
            "\n",
            "The following object is masked from ‘package:purrr’:\n",
            "\n",
            "    compact\n",
            "\n",
            "\n",
            "corrplot 0.92 loaded\n",
            "\n",
            "\n",
            "Attaching package: ‘gridExtra’\n",
            "\n",
            "\n",
            "The following object is masked from ‘package:dplyr’:\n",
            "\n",
            "    combine\n",
            "\n",
            "\n",
            "\n",
            "Attaching package: ‘scales’\n",
            "\n",
            "\n",
            "The following object is masked from ‘package:purrr’:\n",
            "\n",
            "    discard\n",
            "\n",
            "\n",
            "The following object is masked from ‘package:readr’:\n",
            "\n",
            "    col_factor\n",
            "\n",
            "\n",
            "randomForest 4.7-1.1\n",
            "\n",
            "Type rfNews() to see new features/changes/bug fixes.\n",
            "\n",
            "\n",
            "Attaching package: ‘randomForest’\n",
            "\n",
            "\n",
            "The following object is masked from ‘package:gridExtra’:\n",
            "\n",
            "    combine\n",
            "\n",
            "\n",
            "The following object is masked from ‘package:dplyr’:\n",
            "\n",
            "    combine\n",
            "\n",
            "\n",
            "The following object is masked from ‘package:ggplot2’:\n",
            "\n",
            "    margin\n",
            "\n",
            "\n",
            "\n",
            "Attaching package: ‘psych’\n",
            "\n",
            "\n",
            "The following object is masked from ‘package:randomForest’:\n",
            "\n",
            "    outlier\n",
            "\n",
            "\n",
            "The following objects are masked from ‘package:scales’:\n",
            "\n",
            "    alpha, rescale\n",
            "\n",
            "\n",
            "The following objects are masked from ‘package:ggplot2’:\n",
            "\n",
            "    %+%, alpha\n",
            "\n",
            "\n"
          ]
        }
      ],
      "source": [
        "library(knitr)\n",
        "library(MASS)\n",
        "library(mice)\n",
        "library(xgboost)\n",
        "library(ggplot2)\n",
        "library(plyr)\n",
        "library(dplyr)\n",
        "library(corrplot)\n",
        "library(gridExtra)\n",
        "library(scales)\n",
        "library(Rmisc)\n",
        "library(ggrepel)\n",
        "library(randomForest)\n",
        "library(psych)"
      ]
    },
    {
      "cell_type": "code",
      "execution_count": null,
      "metadata": {
        "id": "izZ5Wle3TASc"
      },
      "outputs": [],
      "source": [
        "train_data <- read.csv(\"train.csv\")\n",
        "test_data <- read.csv(\"test.csv\")"
      ]
    },
    {
      "cell_type": "code",
      "execution_count": null,
      "metadata": {
        "id": "9lb3iNiYVuMM",
        "colab": {
          "base_uri": "https://localhost:8080/",
          "height": 610
        },
        "outputId": "e92a3f4c-d758-4c60-fbda-bccc687ce6af"
      },
      "outputs": [
        {
          "output_type": "display_data",
          "data": {
            "text/html": [
              "<table class=\"dataframe\">\n",
              "<caption>A data.frame: 6 × 81</caption>\n",
              "<thead>\n",
              "\t<tr><th></th><th scope=col>Id</th><th scope=col>MSSubClass</th><th scope=col>MSZoning</th><th scope=col>LotFrontage</th><th scope=col>LotArea</th><th scope=col>Street</th><th scope=col>Alley</th><th scope=col>LotShape</th><th scope=col>LandContour</th><th scope=col>Utilities</th><th scope=col>⋯</th><th scope=col>PoolArea</th><th scope=col>PoolQC</th><th scope=col>Fence</th><th scope=col>MiscFeature</th><th scope=col>MiscVal</th><th scope=col>MoSold</th><th scope=col>YrSold</th><th scope=col>SaleType</th><th scope=col>SaleCondition</th><th scope=col>SalePrice</th></tr>\n",
              "\t<tr><th></th><th scope=col>&lt;int&gt;</th><th scope=col>&lt;int&gt;</th><th scope=col>&lt;chr&gt;</th><th scope=col>&lt;int&gt;</th><th scope=col>&lt;int&gt;</th><th scope=col>&lt;chr&gt;</th><th scope=col>&lt;chr&gt;</th><th scope=col>&lt;chr&gt;</th><th scope=col>&lt;chr&gt;</th><th scope=col>&lt;chr&gt;</th><th scope=col>⋯</th><th scope=col>&lt;int&gt;</th><th scope=col>&lt;chr&gt;</th><th scope=col>&lt;chr&gt;</th><th scope=col>&lt;chr&gt;</th><th scope=col>&lt;int&gt;</th><th scope=col>&lt;int&gt;</th><th scope=col>&lt;int&gt;</th><th scope=col>&lt;chr&gt;</th><th scope=col>&lt;chr&gt;</th><th scope=col>&lt;int&gt;</th></tr>\n",
              "</thead>\n",
              "<tbody>\n",
              "\t<tr><th scope=row>1</th><td>1</td><td>60</td><td>RL</td><td>65</td><td> 8450</td><td>Pave</td><td>NA</td><td>Reg</td><td>Lvl</td><td>AllPub</td><td>⋯</td><td>0</td><td>NA</td><td>NA   </td><td>NA  </td><td>  0</td><td> 2</td><td>2008</td><td>WD</td><td>Normal </td><td>208500</td></tr>\n",
              "\t<tr><th scope=row>2</th><td>2</td><td>20</td><td>RL</td><td>80</td><td> 9600</td><td>Pave</td><td>NA</td><td>Reg</td><td>Lvl</td><td>AllPub</td><td>⋯</td><td>0</td><td>NA</td><td>NA   </td><td>NA  </td><td>  0</td><td> 5</td><td>2007</td><td>WD</td><td>Normal </td><td>181500</td></tr>\n",
              "\t<tr><th scope=row>3</th><td>3</td><td>60</td><td>RL</td><td>68</td><td>11250</td><td>Pave</td><td>NA</td><td>IR1</td><td>Lvl</td><td>AllPub</td><td>⋯</td><td>0</td><td>NA</td><td>NA   </td><td>NA  </td><td>  0</td><td> 9</td><td>2008</td><td>WD</td><td>Normal </td><td>223500</td></tr>\n",
              "\t<tr><th scope=row>4</th><td>4</td><td>70</td><td>RL</td><td>60</td><td> 9550</td><td>Pave</td><td>NA</td><td>IR1</td><td>Lvl</td><td>AllPub</td><td>⋯</td><td>0</td><td>NA</td><td>NA   </td><td>NA  </td><td>  0</td><td> 2</td><td>2006</td><td>WD</td><td>Abnorml</td><td>140000</td></tr>\n",
              "\t<tr><th scope=row>5</th><td>5</td><td>60</td><td>RL</td><td>84</td><td>14260</td><td>Pave</td><td>NA</td><td>IR1</td><td>Lvl</td><td>AllPub</td><td>⋯</td><td>0</td><td>NA</td><td>NA   </td><td>NA  </td><td>  0</td><td>12</td><td>2008</td><td>WD</td><td>Normal </td><td>250000</td></tr>\n",
              "\t<tr><th scope=row>6</th><td>6</td><td>50</td><td>RL</td><td>85</td><td>14115</td><td>Pave</td><td>NA</td><td>IR1</td><td>Lvl</td><td>AllPub</td><td>⋯</td><td>0</td><td>NA</td><td>MnPrv</td><td>Shed</td><td>700</td><td>10</td><td>2009</td><td>WD</td><td>Normal </td><td>143000</td></tr>\n",
              "</tbody>\n",
              "</table>\n"
            ],
            "text/markdown": "\nA data.frame: 6 × 81\n\n| <!--/--> | Id &lt;int&gt; | MSSubClass &lt;int&gt; | MSZoning &lt;chr&gt; | LotFrontage &lt;int&gt; | LotArea &lt;int&gt; | Street &lt;chr&gt; | Alley &lt;chr&gt; | LotShape &lt;chr&gt; | LandContour &lt;chr&gt; | Utilities &lt;chr&gt; | ⋯ ⋯ | PoolArea &lt;int&gt; | PoolQC &lt;chr&gt; | Fence &lt;chr&gt; | MiscFeature &lt;chr&gt; | MiscVal &lt;int&gt; | MoSold &lt;int&gt; | YrSold &lt;int&gt; | SaleType &lt;chr&gt; | SaleCondition &lt;chr&gt; | SalePrice &lt;int&gt; |\n|---|---|---|---|---|---|---|---|---|---|---|---|---|---|---|---|---|---|---|---|---|---|\n| 1 | 1 | 60 | RL | 65 |  8450 | Pave | NA | Reg | Lvl | AllPub | ⋯ | 0 | NA | NA    | NA   |   0 |  2 | 2008 | WD | Normal  | 208500 |\n| 2 | 2 | 20 | RL | 80 |  9600 | Pave | NA | Reg | Lvl | AllPub | ⋯ | 0 | NA | NA    | NA   |   0 |  5 | 2007 | WD | Normal  | 181500 |\n| 3 | 3 | 60 | RL | 68 | 11250 | Pave | NA | IR1 | Lvl | AllPub | ⋯ | 0 | NA | NA    | NA   |   0 |  9 | 2008 | WD | Normal  | 223500 |\n| 4 | 4 | 70 | RL | 60 |  9550 | Pave | NA | IR1 | Lvl | AllPub | ⋯ | 0 | NA | NA    | NA   |   0 |  2 | 2006 | WD | Abnorml | 140000 |\n| 5 | 5 | 60 | RL | 84 | 14260 | Pave | NA | IR1 | Lvl | AllPub | ⋯ | 0 | NA | NA    | NA   |   0 | 12 | 2008 | WD | Normal  | 250000 |\n| 6 | 6 | 50 | RL | 85 | 14115 | Pave | NA | IR1 | Lvl | AllPub | ⋯ | 0 | NA | MnPrv | Shed | 700 | 10 | 2009 | WD | Normal  | 143000 |\n\n",
            "text/latex": "A data.frame: 6 × 81\n\\begin{tabular}{r|lllllllllllllllllllll}\n  & Id & MSSubClass & MSZoning & LotFrontage & LotArea & Street & Alley & LotShape & LandContour & Utilities & ⋯ & PoolArea & PoolQC & Fence & MiscFeature & MiscVal & MoSold & YrSold & SaleType & SaleCondition & SalePrice\\\\\n  & <int> & <int> & <chr> & <int> & <int> & <chr> & <chr> & <chr> & <chr> & <chr> & ⋯ & <int> & <chr> & <chr> & <chr> & <int> & <int> & <int> & <chr> & <chr> & <int>\\\\\n\\hline\n\t1 & 1 & 60 & RL & 65 &  8450 & Pave & NA & Reg & Lvl & AllPub & ⋯ & 0 & NA & NA    & NA   &   0 &  2 & 2008 & WD & Normal  & 208500\\\\\n\t2 & 2 & 20 & RL & 80 &  9600 & Pave & NA & Reg & Lvl & AllPub & ⋯ & 0 & NA & NA    & NA   &   0 &  5 & 2007 & WD & Normal  & 181500\\\\\n\t3 & 3 & 60 & RL & 68 & 11250 & Pave & NA & IR1 & Lvl & AllPub & ⋯ & 0 & NA & NA    & NA   &   0 &  9 & 2008 & WD & Normal  & 223500\\\\\n\t4 & 4 & 70 & RL & 60 &  9550 & Pave & NA & IR1 & Lvl & AllPub & ⋯ & 0 & NA & NA    & NA   &   0 &  2 & 2006 & WD & Abnorml & 140000\\\\\n\t5 & 5 & 60 & RL & 84 & 14260 & Pave & NA & IR1 & Lvl & AllPub & ⋯ & 0 & NA & NA    & NA   &   0 & 12 & 2008 & WD & Normal  & 250000\\\\\n\t6 & 6 & 50 & RL & 85 & 14115 & Pave & NA & IR1 & Lvl & AllPub & ⋯ & 0 & NA & MnPrv & Shed & 700 & 10 & 2009 & WD & Normal  & 143000\\\\\n\\end{tabular}\n",
            "text/plain": [
              "  Id MSSubClass MSZoning LotFrontage LotArea Street Alley LotShape LandContour\n",
              "1 1  60         RL       65           8450   Pave   NA    Reg      Lvl        \n",
              "2 2  20         RL       80           9600   Pave   NA    Reg      Lvl        \n",
              "3 3  60         RL       68          11250   Pave   NA    IR1      Lvl        \n",
              "4 4  70         RL       60           9550   Pave   NA    IR1      Lvl        \n",
              "5 5  60         RL       84          14260   Pave   NA    IR1      Lvl        \n",
              "6 6  50         RL       85          14115   Pave   NA    IR1      Lvl        \n",
              "  Utilities ⋯ PoolArea PoolQC Fence MiscFeature MiscVal MoSold YrSold SaleType\n",
              "1 AllPub    ⋯ 0        NA     NA    NA            0      2     2008   WD      \n",
              "2 AllPub    ⋯ 0        NA     NA    NA            0      5     2007   WD      \n",
              "3 AllPub    ⋯ 0        NA     NA    NA            0      9     2008   WD      \n",
              "4 AllPub    ⋯ 0        NA     NA    NA            0      2     2006   WD      \n",
              "5 AllPub    ⋯ 0        NA     NA    NA            0     12     2008   WD      \n",
              "6 AllPub    ⋯ 0        NA     MnPrv Shed        700     10     2009   WD      \n",
              "  SaleCondition SalePrice\n",
              "1 Normal        208500   \n",
              "2 Normal        181500   \n",
              "3 Normal        223500   \n",
              "4 Abnorml       140000   \n",
              "5 Normal        250000   \n",
              "6 Normal        143000   "
            ]
          },
          "metadata": {}
        },
        {
          "output_type": "display_data",
          "data": {
            "text/html": [
              "<style>\n",
              ".list-inline {list-style: none; margin:0; padding: 0}\n",
              ".list-inline>li {display: inline-block}\n",
              ".list-inline>li:not(:last-child)::after {content: \"\\00b7\"; padding: 0 .5ex}\n",
              "</style>\n",
              "<ol class=list-inline><li>1460</li><li>81</li></ol>\n"
            ],
            "text/markdown": "1. 1460\n2. 81\n\n\n",
            "text/latex": "\\begin{enumerate*}\n\\item 1460\n\\item 81\n\\end{enumerate*}\n",
            "text/plain": [
              "[1] 1460   81"
            ]
          },
          "metadata": {}
        },
        {
          "output_type": "display_data",
          "data": {
            "text/html": [
              "<table class=\"dataframe\">\n",
              "<caption>A data.frame: 6 × 80</caption>\n",
              "<thead>\n",
              "\t<tr><th></th><th scope=col>Id</th><th scope=col>MSSubClass</th><th scope=col>MSZoning</th><th scope=col>LotFrontage</th><th scope=col>LotArea</th><th scope=col>Street</th><th scope=col>Alley</th><th scope=col>LotShape</th><th scope=col>LandContour</th><th scope=col>Utilities</th><th scope=col>⋯</th><th scope=col>ScreenPorch</th><th scope=col>PoolArea</th><th scope=col>PoolQC</th><th scope=col>Fence</th><th scope=col>MiscFeature</th><th scope=col>MiscVal</th><th scope=col>MoSold</th><th scope=col>YrSold</th><th scope=col>SaleType</th><th scope=col>SaleCondition</th></tr>\n",
              "\t<tr><th></th><th scope=col>&lt;int&gt;</th><th scope=col>&lt;int&gt;</th><th scope=col>&lt;chr&gt;</th><th scope=col>&lt;int&gt;</th><th scope=col>&lt;int&gt;</th><th scope=col>&lt;chr&gt;</th><th scope=col>&lt;chr&gt;</th><th scope=col>&lt;chr&gt;</th><th scope=col>&lt;chr&gt;</th><th scope=col>&lt;chr&gt;</th><th scope=col>⋯</th><th scope=col>&lt;int&gt;</th><th scope=col>&lt;int&gt;</th><th scope=col>&lt;chr&gt;</th><th scope=col>&lt;chr&gt;</th><th scope=col>&lt;chr&gt;</th><th scope=col>&lt;int&gt;</th><th scope=col>&lt;int&gt;</th><th scope=col>&lt;int&gt;</th><th scope=col>&lt;chr&gt;</th><th scope=col>&lt;chr&gt;</th></tr>\n",
              "</thead>\n",
              "<tbody>\n",
              "\t<tr><th scope=row>1</th><td>1461</td><td> 20</td><td>RH</td><td>80</td><td>11622</td><td>Pave</td><td>NA</td><td>Reg</td><td>Lvl</td><td>AllPub</td><td>⋯</td><td>120</td><td>0</td><td>NA</td><td>MnPrv</td><td>NA  </td><td>    0</td><td>6</td><td>2010</td><td>WD</td><td>Normal</td></tr>\n",
              "\t<tr><th scope=row>2</th><td>1462</td><td> 20</td><td>RL</td><td>81</td><td>14267</td><td>Pave</td><td>NA</td><td>IR1</td><td>Lvl</td><td>AllPub</td><td>⋯</td><td>  0</td><td>0</td><td>NA</td><td>NA   </td><td>Gar2</td><td>12500</td><td>6</td><td>2010</td><td>WD</td><td>Normal</td></tr>\n",
              "\t<tr><th scope=row>3</th><td>1463</td><td> 60</td><td>RL</td><td>74</td><td>13830</td><td>Pave</td><td>NA</td><td>IR1</td><td>Lvl</td><td>AllPub</td><td>⋯</td><td>  0</td><td>0</td><td>NA</td><td>MnPrv</td><td>NA  </td><td>    0</td><td>3</td><td>2010</td><td>WD</td><td>Normal</td></tr>\n",
              "\t<tr><th scope=row>4</th><td>1464</td><td> 60</td><td>RL</td><td>78</td><td> 9978</td><td>Pave</td><td>NA</td><td>IR1</td><td>Lvl</td><td>AllPub</td><td>⋯</td><td>  0</td><td>0</td><td>NA</td><td>NA   </td><td>NA  </td><td>    0</td><td>6</td><td>2010</td><td>WD</td><td>Normal</td></tr>\n",
              "\t<tr><th scope=row>5</th><td>1465</td><td>120</td><td>RL</td><td>43</td><td> 5005</td><td>Pave</td><td>NA</td><td>IR1</td><td>HLS</td><td>AllPub</td><td>⋯</td><td>144</td><td>0</td><td>NA</td><td>NA   </td><td>NA  </td><td>    0</td><td>1</td><td>2010</td><td>WD</td><td>Normal</td></tr>\n",
              "\t<tr><th scope=row>6</th><td>1466</td><td> 60</td><td>RL</td><td>75</td><td>10000</td><td>Pave</td><td>NA</td><td>IR1</td><td>Lvl</td><td>AllPub</td><td>⋯</td><td>  0</td><td>0</td><td>NA</td><td>NA   </td><td>NA  </td><td>    0</td><td>4</td><td>2010</td><td>WD</td><td>Normal</td></tr>\n",
              "</tbody>\n",
              "</table>\n"
            ],
            "text/markdown": "\nA data.frame: 6 × 80\n\n| <!--/--> | Id &lt;int&gt; | MSSubClass &lt;int&gt; | MSZoning &lt;chr&gt; | LotFrontage &lt;int&gt; | LotArea &lt;int&gt; | Street &lt;chr&gt; | Alley &lt;chr&gt; | LotShape &lt;chr&gt; | LandContour &lt;chr&gt; | Utilities &lt;chr&gt; | ⋯ ⋯ | ScreenPorch &lt;int&gt; | PoolArea &lt;int&gt; | PoolQC &lt;chr&gt; | Fence &lt;chr&gt; | MiscFeature &lt;chr&gt; | MiscVal &lt;int&gt; | MoSold &lt;int&gt; | YrSold &lt;int&gt; | SaleType &lt;chr&gt; | SaleCondition &lt;chr&gt; |\n|---|---|---|---|---|---|---|---|---|---|---|---|---|---|---|---|---|---|---|---|---|---|\n| 1 | 1461 |  20 | RH | 80 | 11622 | Pave | NA | Reg | Lvl | AllPub | ⋯ | 120 | 0 | NA | MnPrv | NA   |     0 | 6 | 2010 | WD | Normal |\n| 2 | 1462 |  20 | RL | 81 | 14267 | Pave | NA | IR1 | Lvl | AllPub | ⋯ |   0 | 0 | NA | NA    | Gar2 | 12500 | 6 | 2010 | WD | Normal |\n| 3 | 1463 |  60 | RL | 74 | 13830 | Pave | NA | IR1 | Lvl | AllPub | ⋯ |   0 | 0 | NA | MnPrv | NA   |     0 | 3 | 2010 | WD | Normal |\n| 4 | 1464 |  60 | RL | 78 |  9978 | Pave | NA | IR1 | Lvl | AllPub | ⋯ |   0 | 0 | NA | NA    | NA   |     0 | 6 | 2010 | WD | Normal |\n| 5 | 1465 | 120 | RL | 43 |  5005 | Pave | NA | IR1 | HLS | AllPub | ⋯ | 144 | 0 | NA | NA    | NA   |     0 | 1 | 2010 | WD | Normal |\n| 6 | 1466 |  60 | RL | 75 | 10000 | Pave | NA | IR1 | Lvl | AllPub | ⋯ |   0 | 0 | NA | NA    | NA   |     0 | 4 | 2010 | WD | Normal |\n\n",
            "text/latex": "A data.frame: 6 × 80\n\\begin{tabular}{r|lllllllllllllllllllll}\n  & Id & MSSubClass & MSZoning & LotFrontage & LotArea & Street & Alley & LotShape & LandContour & Utilities & ⋯ & ScreenPorch & PoolArea & PoolQC & Fence & MiscFeature & MiscVal & MoSold & YrSold & SaleType & SaleCondition\\\\\n  & <int> & <int> & <chr> & <int> & <int> & <chr> & <chr> & <chr> & <chr> & <chr> & ⋯ & <int> & <int> & <chr> & <chr> & <chr> & <int> & <int> & <int> & <chr> & <chr>\\\\\n\\hline\n\t1 & 1461 &  20 & RH & 80 & 11622 & Pave & NA & Reg & Lvl & AllPub & ⋯ & 120 & 0 & NA & MnPrv & NA   &     0 & 6 & 2010 & WD & Normal\\\\\n\t2 & 1462 &  20 & RL & 81 & 14267 & Pave & NA & IR1 & Lvl & AllPub & ⋯ &   0 & 0 & NA & NA    & Gar2 & 12500 & 6 & 2010 & WD & Normal\\\\\n\t3 & 1463 &  60 & RL & 74 & 13830 & Pave & NA & IR1 & Lvl & AllPub & ⋯ &   0 & 0 & NA & MnPrv & NA   &     0 & 3 & 2010 & WD & Normal\\\\\n\t4 & 1464 &  60 & RL & 78 &  9978 & Pave & NA & IR1 & Lvl & AllPub & ⋯ &   0 & 0 & NA & NA    & NA   &     0 & 6 & 2010 & WD & Normal\\\\\n\t5 & 1465 & 120 & RL & 43 &  5005 & Pave & NA & IR1 & HLS & AllPub & ⋯ & 144 & 0 & NA & NA    & NA   &     0 & 1 & 2010 & WD & Normal\\\\\n\t6 & 1466 &  60 & RL & 75 & 10000 & Pave & NA & IR1 & Lvl & AllPub & ⋯ &   0 & 0 & NA & NA    & NA   &     0 & 4 & 2010 & WD & Normal\\\\\n\\end{tabular}\n",
            "text/plain": [
              "  Id   MSSubClass MSZoning LotFrontage LotArea Street Alley LotShape\n",
              "1 1461  20        RH       80          11622   Pave   NA    Reg     \n",
              "2 1462  20        RL       81          14267   Pave   NA    IR1     \n",
              "3 1463  60        RL       74          13830   Pave   NA    IR1     \n",
              "4 1464  60        RL       78           9978   Pave   NA    IR1     \n",
              "5 1465 120        RL       43           5005   Pave   NA    IR1     \n",
              "6 1466  60        RL       75          10000   Pave   NA    IR1     \n",
              "  LandContour Utilities ⋯ ScreenPorch PoolArea PoolQC Fence MiscFeature MiscVal\n",
              "1 Lvl         AllPub    ⋯ 120         0        NA     MnPrv NA              0  \n",
              "2 Lvl         AllPub    ⋯   0         0        NA     NA    Gar2        12500  \n",
              "3 Lvl         AllPub    ⋯   0         0        NA     MnPrv NA              0  \n",
              "4 Lvl         AllPub    ⋯   0         0        NA     NA    NA              0  \n",
              "5 HLS         AllPub    ⋯ 144         0        NA     NA    NA              0  \n",
              "6 Lvl         AllPub    ⋯   0         0        NA     NA    NA              0  \n",
              "  MoSold YrSold SaleType SaleCondition\n",
              "1 6      2010   WD       Normal       \n",
              "2 6      2010   WD       Normal       \n",
              "3 3      2010   WD       Normal       \n",
              "4 6      2010   WD       Normal       \n",
              "5 1      2010   WD       Normal       \n",
              "6 4      2010   WD       Normal       "
            ]
          },
          "metadata": {}
        },
        {
          "output_type": "display_data",
          "data": {
            "text/html": [
              "<style>\n",
              ".list-inline {list-style: none; margin:0; padding: 0}\n",
              ".list-inline>li {display: inline-block}\n",
              ".list-inline>li:not(:last-child)::after {content: \"\\00b7\"; padding: 0 .5ex}\n",
              "</style>\n",
              "<ol class=list-inline><li>1459</li><li>80</li></ol>\n"
            ],
            "text/markdown": "1. 1459\n2. 80\n\n\n",
            "text/latex": "\\begin{enumerate*}\n\\item 1459\n\\item 80\n\\end{enumerate*}\n",
            "text/plain": [
              "[1] 1459   80"
            ]
          },
          "metadata": {}
        }
      ],
      "source": [
        "#Lets observe the train and test data\n",
        "\n",
        "head(train_data)\n",
        "dim(train_data)\n",
        "head(test_data)\n",
        "dim(test_data)"
      ]
    },
    {
      "cell_type": "markdown",
      "metadata": {
        "id": "z3NWhSSBgQeA"
      },
      "source": [
        "1. Both the train and test data contains numeric values and characters.\n",
        "2. Train data contains 81 varaibles where SalePrice is the response variable for this data\n",
        "\n"
      ]
    },
    {
      "cell_type": "code",
      "execution_count": null,
      "metadata": {
        "id": "QDPk0BWRsB0B"
      },
      "outputs": [],
      "source": [
        "#Lets delete the Id variable since it's not helping in anyway\n",
        "#saving testids\n",
        "\n",
        "test_data_ids <- test_data$Id"
      ]
    },
    {
      "cell_type": "code",
      "execution_count": null,
      "metadata": {
        "id": "-Qaa6zGTsXyL"
      },
      "outputs": [],
      "source": [
        "#Deleting Ids from train and test data\n",
        "test_data$Id <- NULL\n",
        "train_data$Id <- NULL"
      ]
    },
    {
      "cell_type": "code",
      "execution_count": null,
      "metadata": {
        "id": "KqPIMUSus-ZA"
      },
      "outputs": [],
      "source": [
        "#Lets create a bind of all the train and test data for the purpose of efficient and fast data cleaning and preprocessing\n",
        "#creating equal columns in test data to match with train\n",
        "test_data$SalePrice <- NA\n",
        "\n",
        "total <- rbind(train_data, test_data)"
      ]
    },
    {
      "cell_type": "code",
      "execution_count": null,
      "metadata": {
        "id": "ebaRJU31tQUb",
        "colab": {
          "base_uri": "https://localhost:8080/",
          "height": 34
        },
        "outputId": "346aaec0-b97e-4cc6-df29-3122cbe8dd4d"
      },
      "outputs": [
        {
          "output_type": "display_data",
          "data": {
            "text/html": [
              "<style>\n",
              ".list-inline {list-style: none; margin:0; padding: 0}\n",
              ".list-inline>li {display: inline-block}\n",
              ".list-inline>li:not(:last-child)::after {content: \"\\00b7\"; padding: 0 .5ex}\n",
              "</style>\n",
              "<ol class=list-inline><li>2919</li><li>80</li></ol>\n"
            ],
            "text/markdown": "1. 2919\n2. 80\n\n\n",
            "text/latex": "\\begin{enumerate*}\n\\item 2919\n\\item 80\n\\end{enumerate*}\n",
            "text/plain": [
              "[1] 2919   80"
            ]
          },
          "metadata": {}
        }
      ],
      "source": [
        "dim(total)"
      ]
    },
    {
      "cell_type": "code",
      "execution_count": null,
      "metadata": {
        "id": "zq2auVAg5rvH"
      },
      "outputs": [],
      "source": [
        "cols <- colnames(total)"
      ]
    },
    {
      "cell_type": "code",
      "execution_count": null,
      "metadata": {
        "id": "xBeZjwq3fvdP",
        "colab": {
          "base_uri": "https://localhost:8080/",
          "height": 53
        },
        "outputId": "61d99aa6-1f61-45c7-ae99-e632bbb4b139"
      },
      "outputs": [
        {
          "output_type": "display_data",
          "data": {
            "text/plain": [
              "   Min. 1st Qu.  Median    Mean 3rd Qu.    Max.    NA's \n",
              "  34900  129975  163000  180921  214000  755000    1459 "
            ]
          },
          "metadata": {}
        }
      ],
      "source": [
        "#Lets observe the response varaible which is 'SalePrice'\n",
        "\n",
        "summary(total$SalePrice)"
      ]
    },
    {
      "cell_type": "code",
      "execution_count": null,
      "metadata": {
        "id": "TpbvifIjev6T",
        "colab": {
          "base_uri": "https://localhost:8080/",
          "height": 473
        },
        "outputId": "58b79270-f2f8-4feb-d6c6-66e38b5c3b11"
      },
      "outputs": [
        {
          "output_type": "stream",
          "name": "stderr",
          "text": [
            "Warning message:\n",
            "“\u001b[1m\u001b[22mRemoved 1459 rows containing non-finite values (`stat_bin()`).”\n"
          ]
        },
        {
          "output_type": "display_data",
          "data": {
            "text/plain": [
              "plot without title"
            ],
            "image/png": "[encoded data removed]"
          },
          "metadata": {
            "image/png": {
              "width": 420,
              "height": 420
            }
          }
        }
      ],
      "source": [
        "ggplot(data=total[!is.na(train_data$SalePrice),], aes(x=SalePrice)) +\n",
        "        geom_freqpoly(binwidth = 6000 )"
      ]
    },
    {
      "cell_type": "markdown",
      "metadata": {
        "id": "yxF0E58XfGE1"
      },
      "source": [
        "The sale prices are skewed towards right as few wealthy people bear enough wealth to acquire luxurious houses."
      ]
    },
    {
      "cell_type": "code",
      "execution_count": null,
      "metadata": {
        "id": "31oW5niClPY_"
      },
      "outputs": [],
      "source": [
        "# As mentioned the data containes two types of variables\n",
        "# numerice variable and character variables, we need to work on both the variable types inorder to extract efficient results"
      ]
    },
    {
      "cell_type": "markdown",
      "metadata": {
        "id": "ITsdm9Fj6Foo"
      },
      "source": [
        "**Lets observe the numeric variables and find out which variables have high correlation with the response variable 'SalePrice'**"
      ]
    },
    {
      "cell_type": "code",
      "execution_count": null,
      "metadata": {
        "id": "2QobydninTlv",
        "colab": {
          "base_uri": "https://localhost:8080/",
          "height": 34
        },
        "outputId": "b14fbdba-2817-4839-a703-3d0482526506"
      },
      "outputs": [
        {
          "output_type": "display_data",
          "data": {
            "text/html": [
              "37"
            ],
            "text/markdown": "37",
            "text/latex": "37",
            "text/plain": [
              "[1] 37"
            ]
          },
          "metadata": {}
        }
      ],
      "source": [
        "#Correlation of numeric variables with the response variable 'SalePrice'\n",
        "#Find number of numeric variables\n",
        "nums <- c()\n",
        "for (i in 1:length(total)) {\n",
        "    val <- total[,i]\n",
        "    if (is.numeric(val))\n",
        "        nums[i] <- cols[i]\n",
        "}\n",
        "nums<- na.omit(nums)\n",
        "length(nums)"
      ]
    },
    {
      "cell_type": "markdown",
      "metadata": {
        "id": "DZUZTU8v59DY"
      },
      "source": [
        "Therefore there are a total of 37 numerical variables in the data"
      ]
    },
    {
      "cell_type": "code",
      "execution_count": null,
      "metadata": {
        "id": "Scm6w38f4svD",
        "colab": {
          "base_uri": "https://localhost:8080/",
          "height": 324
        },
        "outputId": "900ecc49-a601-4b1d-a52d-97b5a2a6af60"
      },
      "outputs": [
        {
          "output_type": "display_data",
          "data": {
            "text/html": [
              "<table class=\"dataframe\">\n",
              "<caption>A data.frame: 6 × 37</caption>\n",
              "<thead>\n",
              "\t<tr><th></th><th scope=col>MSSubClass</th><th scope=col>LotFrontage</th><th scope=col>LotArea</th><th scope=col>OverallQual</th><th scope=col>OverallCond</th><th scope=col>YearBuilt</th><th scope=col>YearRemodAdd</th><th scope=col>MasVnrArea</th><th scope=col>BsmtFinSF1</th><th scope=col>BsmtFinSF2</th><th scope=col>⋯</th><th scope=col>WoodDeckSF</th><th scope=col>OpenPorchSF</th><th scope=col>EnclosedPorch</th><th scope=col>X3SsnPorch</th><th scope=col>ScreenPorch</th><th scope=col>PoolArea</th><th scope=col>MiscVal</th><th scope=col>MoSold</th><th scope=col>YrSold</th><th scope=col>SalePrice</th></tr>\n",
              "\t<tr><th></th><th scope=col>&lt;int&gt;</th><th scope=col>&lt;int&gt;</th><th scope=col>&lt;int&gt;</th><th scope=col>&lt;int&gt;</th><th scope=col>&lt;int&gt;</th><th scope=col>&lt;int&gt;</th><th scope=col>&lt;int&gt;</th><th scope=col>&lt;int&gt;</th><th scope=col>&lt;int&gt;</th><th scope=col>&lt;int&gt;</th><th scope=col>⋯</th><th scope=col>&lt;int&gt;</th><th scope=col>&lt;int&gt;</th><th scope=col>&lt;int&gt;</th><th scope=col>&lt;int&gt;</th><th scope=col>&lt;int&gt;</th><th scope=col>&lt;int&gt;</th><th scope=col>&lt;int&gt;</th><th scope=col>&lt;int&gt;</th><th scope=col>&lt;int&gt;</th><th scope=col>&lt;int&gt;</th></tr>\n",
              "</thead>\n",
              "<tbody>\n",
              "\t<tr><th scope=row>1</th><td>60</td><td>65</td><td> 8450</td><td>7</td><td>5</td><td>2003</td><td>2003</td><td>196</td><td>706</td><td>0</td><td>⋯</td><td>  0</td><td>61</td><td>  0</td><td>  0</td><td>0</td><td>0</td><td>  0</td><td> 2</td><td>2008</td><td>208500</td></tr>\n",
              "\t<tr><th scope=row>2</th><td>20</td><td>80</td><td> 9600</td><td>6</td><td>8</td><td>1976</td><td>1976</td><td>  0</td><td>978</td><td>0</td><td>⋯</td><td>298</td><td> 0</td><td>  0</td><td>  0</td><td>0</td><td>0</td><td>  0</td><td> 5</td><td>2007</td><td>181500</td></tr>\n",
              "\t<tr><th scope=row>3</th><td>60</td><td>68</td><td>11250</td><td>7</td><td>5</td><td>2001</td><td>2002</td><td>162</td><td>486</td><td>0</td><td>⋯</td><td>  0</td><td>42</td><td>  0</td><td>  0</td><td>0</td><td>0</td><td>  0</td><td> 9</td><td>2008</td><td>223500</td></tr>\n",
              "\t<tr><th scope=row>4</th><td>70</td><td>60</td><td> 9550</td><td>7</td><td>5</td><td>1915</td><td>1970</td><td>  0</td><td>216</td><td>0</td><td>⋯</td><td>  0</td><td>35</td><td>272</td><td>  0</td><td>0</td><td>0</td><td>  0</td><td> 2</td><td>2006</td><td>140000</td></tr>\n",
              "\t<tr><th scope=row>5</th><td>60</td><td>84</td><td>14260</td><td>8</td><td>5</td><td>2000</td><td>2000</td><td>350</td><td>655</td><td>0</td><td>⋯</td><td>192</td><td>84</td><td>  0</td><td>  0</td><td>0</td><td>0</td><td>  0</td><td>12</td><td>2008</td><td>250000</td></tr>\n",
              "\t<tr><th scope=row>6</th><td>50</td><td>85</td><td>14115</td><td>5</td><td>5</td><td>1993</td><td>1995</td><td>  0</td><td>732</td><td>0</td><td>⋯</td><td> 40</td><td>30</td><td>  0</td><td>320</td><td>0</td><td>0</td><td>700</td><td>10</td><td>2009</td><td>143000</td></tr>\n",
              "</tbody>\n",
              "</table>\n"
            ],
            "text/markdown": "\nA data.frame: 6 × 37\n\n| <!--/--> | MSSubClass &lt;int&gt; | LotFrontage &lt;int&gt; | LotArea &lt;int&gt; | OverallQual &lt;int&gt; | OverallCond &lt;int&gt; | YearBuilt &lt;int&gt; | YearRemodAdd &lt;int&gt; | MasVnrArea &lt;int&gt; | BsmtFinSF1 &lt;int&gt; | BsmtFinSF2 &lt;int&gt; | ⋯ ⋯ | WoodDeckSF &lt;int&gt; | OpenPorchSF &lt;int&gt; | EnclosedPorch &lt;int&gt; | X3SsnPorch &lt;int&gt; | ScreenPorch &lt;int&gt; | PoolArea &lt;int&gt; | MiscVal &lt;int&gt; | MoSold &lt;int&gt; | YrSold &lt;int&gt; | SalePrice &lt;int&gt; |\n|---|---|---|---|---|---|---|---|---|---|---|---|---|---|---|---|---|---|---|---|---|---|\n| 1 | 60 | 65 |  8450 | 7 | 5 | 2003 | 2003 | 196 | 706 | 0 | ⋯ |   0 | 61 |   0 |   0 | 0 | 0 |   0 |  2 | 2008 | 208500 |\n| 2 | 20 | 80 |  9600 | 6 | 8 | 1976 | 1976 |   0 | 978 | 0 | ⋯ | 298 |  0 |   0 |   0 | 0 | 0 |   0 |  5 | 2007 | 181500 |\n| 3 | 60 | 68 | 11250 | 7 | 5 | 2001 | 2002 | 162 | 486 | 0 | ⋯ |   0 | 42 |   0 |   0 | 0 | 0 |   0 |  9 | 2008 | 223500 |\n| 4 | 70 | 60 |  9550 | 7 | 5 | 1915 | 1970 |   0 | 216 | 0 | ⋯ |   0 | 35 | 272 |   0 | 0 | 0 |   0 |  2 | 2006 | 140000 |\n| 5 | 60 | 84 | 14260 | 8 | 5 | 2000 | 2000 | 350 | 655 | 0 | ⋯ | 192 | 84 |   0 |   0 | 0 | 0 |   0 | 12 | 2008 | 250000 |\n| 6 | 50 | 85 | 14115 | 5 | 5 | 1993 | 1995 |   0 | 732 | 0 | ⋯ |  40 | 30 |   0 | 320 | 0 | 0 | 700 | 10 | 2009 | 143000 |\n\n",
            "text/latex": "A data.frame: 6 × 37\n\\begin{tabular}{r|lllllllllllllllllllll}\n  & MSSubClass & LotFrontage & LotArea & OverallQual & OverallCond & YearBuilt & YearRemodAdd & MasVnrArea & BsmtFinSF1 & BsmtFinSF2 & ⋯ & WoodDeckSF & OpenPorchSF & EnclosedPorch & X3SsnPorch & ScreenPorch & PoolArea & MiscVal & MoSold & YrSold & SalePrice\\\\\n  & <int> & <int> & <int> & <int> & <int> & <int> & <int> & <int> & <int> & <int> & ⋯ & <int> & <int> & <int> & <int> & <int> & <int> & <int> & <int> & <int> & <int>\\\\\n\\hline\n\t1 & 60 & 65 &  8450 & 7 & 5 & 2003 & 2003 & 196 & 706 & 0 & ⋯ &   0 & 61 &   0 &   0 & 0 & 0 &   0 &  2 & 2008 & 208500\\\\\n\t2 & 20 & 80 &  9600 & 6 & 8 & 1976 & 1976 &   0 & 978 & 0 & ⋯ & 298 &  0 &   0 &   0 & 0 & 0 &   0 &  5 & 2007 & 181500\\\\\n\t3 & 60 & 68 & 11250 & 7 & 5 & 2001 & 2002 & 162 & 486 & 0 & ⋯ &   0 & 42 &   0 &   0 & 0 & 0 &   0 &  9 & 2008 & 223500\\\\\n\t4 & 70 & 60 &  9550 & 7 & 5 & 1915 & 1970 &   0 & 216 & 0 & ⋯ &   0 & 35 & 272 &   0 & 0 & 0 &   0 &  2 & 2006 & 140000\\\\\n\t5 & 60 & 84 & 14260 & 8 & 5 & 2000 & 2000 & 350 & 655 & 0 & ⋯ & 192 & 84 &   0 &   0 & 0 & 0 &   0 & 12 & 2008 & 250000\\\\\n\t6 & 50 & 85 & 14115 & 5 & 5 & 1993 & 1995 &   0 & 732 & 0 & ⋯ &  40 & 30 &   0 & 320 & 0 & 0 & 700 & 10 & 2009 & 143000\\\\\n\\end{tabular}\n",
            "text/plain": [
              "  MSSubClass LotFrontage LotArea OverallQual OverallCond YearBuilt YearRemodAdd\n",
              "1 60         65           8450   7           5           2003      2003        \n",
              "2 20         80           9600   6           8           1976      1976        \n",
              "3 60         68          11250   7           5           2001      2002        \n",
              "4 70         60           9550   7           5           1915      1970        \n",
              "5 60         84          14260   8           5           2000      2000        \n",
              "6 50         85          14115   5           5           1993      1995        \n",
              "  MasVnrArea BsmtFinSF1 BsmtFinSF2 ⋯ WoodDeckSF OpenPorchSF EnclosedPorch\n",
              "1 196        706        0          ⋯   0        61            0          \n",
              "2   0        978        0          ⋯ 298         0            0          \n",
              "3 162        486        0          ⋯   0        42            0          \n",
              "4   0        216        0          ⋯   0        35          272          \n",
              "5 350        655        0          ⋯ 192        84            0          \n",
              "6   0        732        0          ⋯  40        30            0          \n",
              "  X3SsnPorch ScreenPorch PoolArea MiscVal MoSold YrSold SalePrice\n",
              "1   0        0           0          0      2     2008   208500   \n",
              "2   0        0           0          0      5     2007   181500   \n",
              "3   0        0           0          0      9     2008   223500   \n",
              "4   0        0           0          0      2     2006   140000   \n",
              "5   0        0           0          0     12     2008   250000   \n",
              "6 320        0           0        700     10     2009   143000   "
            ]
          },
          "metadata": {}
        },
        {
          "output_type": "display_data",
          "data": {
            "text/html": [
              "<style>\n",
              ".list-inline {list-style: none; margin:0; padding: 0}\n",
              ".list-inline>li {display: inline-block}\n",
              ".list-inline>li:not(:last-child)::after {content: \"\\00b7\"; padding: 0 .5ex}\n",
              "</style>\n",
              "<ol class=list-inline><li>2919</li><li>37</li></ol>\n"
            ],
            "text/markdown": "1. 2919\n2. 37\n\n\n",
            "text/latex": "\\begin{enumerate*}\n\\item 2919\n\\item 37\n\\end{enumerate*}\n",
            "text/plain": [
              "[1] 2919   37"
            ]
          },
          "metadata": {}
        }
      ],
      "source": [
        "#For the purpose of correlation lets take the entire data of just the numberic variables into a separate df\n",
        "total_nums <- total[ , nums]\n",
        "head(total_nums)\n",
        "dim(total_nums)"
      ]
    },
    {
      "cell_type": "code",
      "execution_count": null,
      "metadata": {
        "id": "fIeumodj6_B5",
        "colab": {
          "base_uri": "https://localhost:8080/",
          "height": 275
        },
        "outputId": "7a9aa378-87e8-4038-e21d-da8c8cc073ea"
      },
      "outputs": [
        {
          "output_type": "display_data",
          "data": {
            "text/html": [
              "<table class=\"dataframe\">\n",
              "<caption>A matrix: 6 × 37 of type dbl</caption>\n",
              "<thead>\n",
              "\t<tr><th></th><th scope=col>MSSubClass</th><th scope=col>LotFrontage</th><th scope=col>LotArea</th><th scope=col>OverallQual</th><th scope=col>OverallCond</th><th scope=col>YearBuilt</th><th scope=col>YearRemodAdd</th><th scope=col>MasVnrArea</th><th scope=col>BsmtFinSF1</th><th scope=col>BsmtFinSF2</th><th scope=col>⋯</th><th scope=col>WoodDeckSF</th><th scope=col>OpenPorchSF</th><th scope=col>EnclosedPorch</th><th scope=col>X3SsnPorch</th><th scope=col>ScreenPorch</th><th scope=col>PoolArea</th><th scope=col>MiscVal</th><th scope=col>MoSold</th><th scope=col>YrSold</th><th scope=col>SalePrice</th></tr>\n",
              "</thead>\n",
              "<tbody>\n",
              "\t<tr><th scope=row>MSSubClass</th><td> 1.00000000</td><td>-0.41735907</td><td>-0.20173005</td><td> 0.03363797</td><td>-0.06562504</td><td> 0.03440874</td><td>0.04331491</td><td> 0.005433276</td><td>-0.06431082</td><td>-0.07252954</td><td>⋯</td><td>-0.01765413</td><td>-0.01592320</td><td>-0.02086725</td><td>-0.03752892</td><td>-0.04918147</td><td>-0.003079582</td><td>-0.028866859</td><td>-0.001231139</td><td>-0.015027804</td><td>-0.08428414</td></tr>\n",
              "\t<tr><th scope=row>LotFrontage</th><td>-0.41735907</td><td> 1.00000000</td><td> 0.48989557</td><td> 0.21764537</td><td>-0.07550789</td><td> 0.12281119</td><td>0.09155730</td><td> 0.221078753</td><td> 0.21940811</td><td> 0.04743091</td><td>⋯</td><td> 0.12206978</td><td> 0.16489611</td><td> 0.01150927</td><td> 0.02828880</td><td> 0.07585764</td><td> 0.174119134</td><td> 0.044272443</td><td> 0.011253554</td><td>-0.007916649</td><td> 0.35179910</td></tr>\n",
              "\t<tr><th scope=row>LotArea</th><td>-0.20173005</td><td> 0.48989557</td><td> 1.00000000</td><td> 0.10054057</td><td>-0.03561720</td><td> 0.02412782</td><td>0.02161226</td><td> 0.125595907</td><td> 0.19403063</td><td> 0.08405868</td><td>⋯</td><td> 0.15804531</td><td> 0.10479723</td><td> 0.02097448</td><td> 0.01599506</td><td> 0.05437526</td><td> 0.093707880</td><td> 0.069028792</td><td> 0.004155625</td><td>-0.024234468</td><td> 0.26384335</td></tr>\n",
              "\t<tr><th scope=row>OverallQual</th><td> 0.03363797</td><td> 0.21764537</td><td> 0.10054057</td><td> 1.00000000</td><td>-0.09384734</td><td> 0.59755409</td><td>0.57153234</td><td> 0.432947384</td><td> 0.28180976</td><td>-0.04277074</td><td>⋯</td><td> 0.25531678</td><td> 0.29808351</td><td>-0.13925625</td><td> 0.01871481</td><td> 0.04290966</td><td> 0.030740454</td><td> 0.005562085</td><td> 0.030404970</td><td>-0.019613768</td><td> 0.79098160</td></tr>\n",
              "\t<tr><th scope=row>OverallCond</th><td>-0.06562504</td><td>-0.07550789</td><td>-0.03561720</td><td>-0.09384734</td><td> 1.00000000</td><td>-0.36847669</td><td>0.04765401</td><td>-0.136006507</td><td>-0.05041751</td><td> 0.04150119</td><td>⋯</td><td> 0.02012346</td><td>-0.06897834</td><td> 0.07104410</td><td> 0.04373909</td><td> 0.04371255</td><td>-0.016876326</td><td> 0.033956167</td><td>-0.006256262</td><td> 0.030101690</td><td>-0.07785589</td></tr>\n",
              "\t<tr><th scope=row>YearBuilt</th><td> 0.03440874</td><td> 0.12281119</td><td> 0.02412782</td><td> 0.59755409</td><td>-0.36847669</td><td> 1.00000000</td><td>0.61223457</td><td> 0.314051384</td><td> 0.27958087</td><td>-0.02759467</td><td>⋯</td><td> 0.22942648</td><td> 0.19855403</td><td>-0.37407277</td><td> 0.01595771</td><td>-0.04104598</td><td> 0.002304346</td><td>-0.010886327</td><td> 0.013937600</td><td>-0.012344195</td><td> 0.52289733</td></tr>\n",
              "</tbody>\n",
              "</table>\n"
            ],
            "text/markdown": "\nA matrix: 6 × 37 of type dbl\n\n| <!--/--> | MSSubClass | LotFrontage | LotArea | OverallQual | OverallCond | YearBuilt | YearRemodAdd | MasVnrArea | BsmtFinSF1 | BsmtFinSF2 | ⋯ | WoodDeckSF | OpenPorchSF | EnclosedPorch | X3SsnPorch | ScreenPorch | PoolArea | MiscVal | MoSold | YrSold | SalePrice |\n|---|---|---|---|---|---|---|---|---|---|---|---|---|---|---|---|---|---|---|---|---|---|\n| MSSubClass |  1.00000000 | -0.41735907 | -0.20173005 |  0.03363797 | -0.06562504 |  0.03440874 | 0.04331491 |  0.005433276 | -0.06431082 | -0.07252954 | ⋯ | -0.01765413 | -0.01592320 | -0.02086725 | -0.03752892 | -0.04918147 | -0.003079582 | -0.028866859 | -0.001231139 | -0.015027804 | -0.08428414 |\n| LotFrontage | -0.41735907 |  1.00000000 |  0.48989557 |  0.21764537 | -0.07550789 |  0.12281119 | 0.09155730 |  0.221078753 |  0.21940811 |  0.04743091 | ⋯ |  0.12206978 |  0.16489611 |  0.01150927 |  0.02828880 |  0.07585764 |  0.174119134 |  0.044272443 |  0.011253554 | -0.007916649 |  0.35179910 |\n| LotArea | -0.20173005 |  0.48989557 |  1.00000000 |  0.10054057 | -0.03561720 |  0.02412782 | 0.02161226 |  0.125595907 |  0.19403063 |  0.08405868 | ⋯ |  0.15804531 |  0.10479723 |  0.02097448 |  0.01599506 |  0.05437526 |  0.093707880 |  0.069028792 |  0.004155625 | -0.024234468 |  0.26384335 |\n| OverallQual |  0.03363797 |  0.21764537 |  0.10054057 |  1.00000000 | -0.09384734 |  0.59755409 | 0.57153234 |  0.432947384 |  0.28180976 | -0.04277074 | ⋯ |  0.25531678 |  0.29808351 | -0.13925625 |  0.01871481 |  0.04290966 |  0.030740454 |  0.005562085 |  0.030404970 | -0.019613768 |  0.79098160 |\n| OverallCond | -0.06562504 | -0.07550789 | -0.03561720 | -0.09384734 |  1.00000000 | -0.36847669 | 0.04765401 | -0.136006507 | -0.05041751 |  0.04150119 | ⋯ |  0.02012346 | -0.06897834 |  0.07104410 |  0.04373909 |  0.04371255 | -0.016876326 |  0.033956167 | -0.006256262 |  0.030101690 | -0.07785589 |\n| YearBuilt |  0.03440874 |  0.12281119 |  0.02412782 |  0.59755409 | -0.36847669 |  1.00000000 | 0.61223457 |  0.314051384 |  0.27958087 | -0.02759467 | ⋯ |  0.22942648 |  0.19855403 | -0.37407277 |  0.01595771 | -0.04104598 |  0.002304346 | -0.010886327 |  0.013937600 | -0.012344195 |  0.52289733 |\n\n",
            "text/latex": "A matrix: 6 × 37 of type dbl\n\\begin{tabular}{r|lllllllllllllllllllll}\n  & MSSubClass & LotFrontage & LotArea & OverallQual & OverallCond & YearBuilt & YearRemodAdd & MasVnrArea & BsmtFinSF1 & BsmtFinSF2 & ⋯ & WoodDeckSF & OpenPorchSF & EnclosedPorch & X3SsnPorch & ScreenPorch & PoolArea & MiscVal & MoSold & YrSold & SalePrice\\\\\n\\hline\n\tMSSubClass &  1.00000000 & -0.41735907 & -0.20173005 &  0.03363797 & -0.06562504 &  0.03440874 & 0.04331491 &  0.005433276 & -0.06431082 & -0.07252954 & ⋯ & -0.01765413 & -0.01592320 & -0.02086725 & -0.03752892 & -0.04918147 & -0.003079582 & -0.028866859 & -0.001231139 & -0.015027804 & -0.08428414\\\\\n\tLotFrontage & -0.41735907 &  1.00000000 &  0.48989557 &  0.21764537 & -0.07550789 &  0.12281119 & 0.09155730 &  0.221078753 &  0.21940811 &  0.04743091 & ⋯ &  0.12206978 &  0.16489611 &  0.01150927 &  0.02828880 &  0.07585764 &  0.174119134 &  0.044272443 &  0.011253554 & -0.007916649 &  0.35179910\\\\\n\tLotArea & -0.20173005 &  0.48989557 &  1.00000000 &  0.10054057 & -0.03561720 &  0.02412782 & 0.02161226 &  0.125595907 &  0.19403063 &  0.08405868 & ⋯ &  0.15804531 &  0.10479723 &  0.02097448 &  0.01599506 &  0.05437526 &  0.093707880 &  0.069028792 &  0.004155625 & -0.024234468 &  0.26384335\\\\\n\tOverallQual &  0.03363797 &  0.21764537 &  0.10054057 &  1.00000000 & -0.09384734 &  0.59755409 & 0.57153234 &  0.432947384 &  0.28180976 & -0.04277074 & ⋯ &  0.25531678 &  0.29808351 & -0.13925625 &  0.01871481 &  0.04290966 &  0.030740454 &  0.005562085 &  0.030404970 & -0.019613768 &  0.79098160\\\\\n\tOverallCond & -0.06562504 & -0.07550789 & -0.03561720 & -0.09384734 &  1.00000000 & -0.36847669 & 0.04765401 & -0.136006507 & -0.05041751 &  0.04150119 & ⋯ &  0.02012346 & -0.06897834 &  0.07104410 &  0.04373909 &  0.04371255 & -0.016876326 &  0.033956167 & -0.006256262 &  0.030101690 & -0.07785589\\\\\n\tYearBuilt &  0.03440874 &  0.12281119 &  0.02412782 &  0.59755409 & -0.36847669 &  1.00000000 & 0.61223457 &  0.314051384 &  0.27958087 & -0.02759467 & ⋯ &  0.22942648 &  0.19855403 & -0.37407277 &  0.01595771 & -0.04104598 &  0.002304346 & -0.010886327 &  0.013937600 & -0.012344195 &  0.52289733\\\\\n\\end{tabular}\n",
            "text/plain": [
              "            MSSubClass  LotFrontage LotArea     OverallQual OverallCond\n",
              "MSSubClass   1.00000000 -0.41735907 -0.20173005  0.03363797 -0.06562504\n",
              "LotFrontage -0.41735907  1.00000000  0.48989557  0.21764537 -0.07550789\n",
              "LotArea     -0.20173005  0.48989557  1.00000000  0.10054057 -0.03561720\n",
              "OverallQual  0.03363797  0.21764537  0.10054057  1.00000000 -0.09384734\n",
              "OverallCond -0.06562504 -0.07550789 -0.03561720 -0.09384734  1.00000000\n",
              "YearBuilt    0.03440874  0.12281119  0.02412782  0.59755409 -0.36847669\n",
              "            YearBuilt   YearRemodAdd MasVnrArea   BsmtFinSF1  BsmtFinSF2  ⋯\n",
              "MSSubClass   0.03440874 0.04331491    0.005433276 -0.06431082 -0.07252954 ⋯\n",
              "LotFrontage  0.12281119 0.09155730    0.221078753  0.21940811  0.04743091 ⋯\n",
              "LotArea      0.02412782 0.02161226    0.125595907  0.19403063  0.08405868 ⋯\n",
              "OverallQual  0.59755409 0.57153234    0.432947384  0.28180976 -0.04277074 ⋯\n",
              "OverallCond -0.36847669 0.04765401   -0.136006507 -0.05041751  0.04150119 ⋯\n",
              "YearBuilt    1.00000000 0.61223457    0.314051384  0.27958087 -0.02759467 ⋯\n",
              "            WoodDeckSF  OpenPorchSF EnclosedPorch X3SsnPorch  ScreenPorch\n",
              "MSSubClass  -0.01765413 -0.01592320 -0.02086725   -0.03752892 -0.04918147\n",
              "LotFrontage  0.12206978  0.16489611  0.01150927    0.02828880  0.07585764\n",
              "LotArea      0.15804531  0.10479723  0.02097448    0.01599506  0.05437526\n",
              "OverallQual  0.25531678  0.29808351 -0.13925625    0.01871481  0.04290966\n",
              "OverallCond  0.02012346 -0.06897834  0.07104410    0.04373909  0.04371255\n",
              "YearBuilt    0.22942648  0.19855403 -0.37407277    0.01595771 -0.04104598\n",
              "            PoolArea     MiscVal      MoSold       YrSold       SalePrice  \n",
              "MSSubClass  -0.003079582 -0.028866859 -0.001231139 -0.015027804 -0.08428414\n",
              "LotFrontage  0.174119134  0.044272443  0.011253554 -0.007916649  0.35179910\n",
              "LotArea      0.093707880  0.069028792  0.004155625 -0.024234468  0.26384335\n",
              "OverallQual  0.030740454  0.005562085  0.030404970 -0.019613768  0.79098160\n",
              "OverallCond -0.016876326  0.033956167 -0.006256262  0.030101690 -0.07785589\n",
              "YearBuilt    0.002304346 -0.010886327  0.013937600 -0.012344195  0.52289733"
            ]
          },
          "metadata": {}
        }
      ],
      "source": [
        "#Finding correlation values of all the datapoints\n",
        "cor_nums <- cor(total_nums, use=\"pairwise.complete.obs\", method=\"pearson\")\n",
        "head(cor_nums)"
      ]
    },
    {
      "cell_type": "code",
      "execution_count": null,
      "metadata": {
        "id": "OH8uLgKG84HC",
        "colab": {
          "base_uri": "https://localhost:8080/",
          "height": 437
        },
        "outputId": "23279f0f-35ad-402d-e8d6-d76b6056b481"
      },
      "outputs": [
        {
          "output_type": "display_data",
          "data": {
            "text/plain": [
              "Plot with title “”"
            ],
            "image/png": "[encoded data removed]"
          },
          "metadata": {
            "image/png": {
              "width": 420,
              "height": 420
            }
          }
        }
      ],
      "source": [
        "#lets plot the correlation between the numeric variables and response variable 'SalePrice'\n",
        "\n",
        "cor_nums_sort <- as.matrix(sort(cor_nums[,'SalePrice'], decreasing = TRUE))\n",
        "#we will select only the highest corelations\n",
        "MaxCor <- names(which(apply(cor_nums_sort, 1, function(x) abs(x)>0.5)))\n",
        "cor_nums <- cor_nums[MaxCor, MaxCor]\n",
        "\n",
        "# corrplot(cor_nums, method=\"number\")\n",
        "corrplot.mixed(cor_nums, lower = 'number', upper = 'circle', order = 'original', tl.cex = 0.5, tl.offset = 3)\n",
        "# corrplot(cor_nums, type=\"lower\", order=\"original\", tl.col=\"black\", tl.srt=45, tl.cex = 1)"
      ]
    },
    {
      "cell_type": "markdown",
      "metadata": {
        "id": "8lTTVp4rCW-n"
      },
      "source": [
        "From the plot we can observe that the numeric variables 'Overall Quality' and 'GrLivArea' are highly correlated with the response variable 'SalePrice'"
      ]
    },
    {
      "cell_type": "markdown",
      "metadata": {
        "id": "kzqFNhVPDw4j"
      },
      "source": [
        "**Handling Missing Data**"
      ]
    },
    {
      "cell_type": "code",
      "execution_count": null,
      "metadata": {
        "id": "XK1AyWJ3F0ob",
        "colab": {
          "base_uri": "https://localhost:8080/",
          "height": 104
        },
        "outputId": "ed354ecb-ee99-41a1-b4bd-e388d42caae3"
      },
      "outputs": [
        {
          "output_type": "display_data",
          "data": {
            "text/html": [
              "35"
            ],
            "text/markdown": "35",
            "text/latex": "35",
            "text/plain": [
              "[1] 35"
            ]
          },
          "metadata": {}
        },
        {
          "output_type": "display_data",
          "data": {
            "text/html": [
              "<style>\n",
              ".list-inline {list-style: none; margin:0; padding: 0}\n",
              ".list-inline>li {display: inline-block}\n",
              ".list-inline>li:not(:last-child)::after {content: \"\\00b7\"; padding: 0 .5ex}\n",
              "</style>\n",
              "<ol class=list-inline><li>'MSZoning'</li><li>'LotFrontage'</li><li>'Alley'</li><li>'Utilities'</li><li>'Exterior1st'</li><li>'Exterior2nd'</li><li>'MasVnrType'</li><li>'MasVnrArea'</li><li>'BsmtQual'</li><li>'BsmtCond'</li><li>'BsmtExposure'</li><li>'BsmtFinType1'</li><li>'BsmtFinSF1'</li><li>'BsmtFinType2'</li><li>'BsmtFinSF2'</li><li>'BsmtUnfSF'</li><li>'TotalBsmtSF'</li><li>'Electrical'</li><li>'BsmtFullBath'</li><li>'BsmtHalfBath'</li><li>'KitchenQual'</li><li>'Functional'</li><li>'FireplaceQu'</li><li>'GarageType'</li><li>'GarageYrBlt'</li><li>'GarageFinish'</li><li>'GarageCars'</li><li>'GarageArea'</li><li>'GarageQual'</li><li>'GarageCond'</li><li>'PoolQC'</li><li>'Fence'</li><li>'MiscFeature'</li><li>'SaleType'</li><li>'SalePrice'</li></ol>\n"
            ],
            "text/markdown": "1. 'MSZoning'\n2. 'LotFrontage'\n3. 'Alley'\n4. 'Utilities'\n5. 'Exterior1st'\n6. 'Exterior2nd'\n7. 'MasVnrType'\n8. 'MasVnrArea'\n9. 'BsmtQual'\n10. 'BsmtCond'\n11. 'BsmtExposure'\n12. 'BsmtFinType1'\n13. 'BsmtFinSF1'\n14. 'BsmtFinType2'\n15. 'BsmtFinSF2'\n16. 'BsmtUnfSF'\n17. 'TotalBsmtSF'\n18. 'Electrical'\n19. 'BsmtFullBath'\n20. 'BsmtHalfBath'\n21. 'KitchenQual'\n22. 'Functional'\n23. 'FireplaceQu'\n24. 'GarageType'\n25. 'GarageYrBlt'\n26. 'GarageFinish'\n27. 'GarageCars'\n28. 'GarageArea'\n29. 'GarageQual'\n30. 'GarageCond'\n31. 'PoolQC'\n32. 'Fence'\n33. 'MiscFeature'\n34. 'SaleType'\n35. 'SalePrice'\n\n\n",
            "text/latex": "\\begin{enumerate*}\n\\item 'MSZoning'\n\\item 'LotFrontage'\n\\item 'Alley'\n\\item 'Utilities'\n\\item 'Exterior1st'\n\\item 'Exterior2nd'\n\\item 'MasVnrType'\n\\item 'MasVnrArea'\n\\item 'BsmtQual'\n\\item 'BsmtCond'\n\\item 'BsmtExposure'\n\\item 'BsmtFinType1'\n\\item 'BsmtFinSF1'\n\\item 'BsmtFinType2'\n\\item 'BsmtFinSF2'\n\\item 'BsmtUnfSF'\n\\item 'TotalBsmtSF'\n\\item 'Electrical'\n\\item 'BsmtFullBath'\n\\item 'BsmtHalfBath'\n\\item 'KitchenQual'\n\\item 'Functional'\n\\item 'FireplaceQu'\n\\item 'GarageType'\n\\item 'GarageYrBlt'\n\\item 'GarageFinish'\n\\item 'GarageCars'\n\\item 'GarageArea'\n\\item 'GarageQual'\n\\item 'GarageCond'\n\\item 'PoolQC'\n\\item 'Fence'\n\\item 'MiscFeature'\n\\item 'SaleType'\n\\item 'SalePrice'\n\\end{enumerate*}\n",
            "text/plain": [
              " [1] \"MSZoning\"     \"LotFrontage\"  \"Alley\"        \"Utilities\"    \"Exterior1st\" \n",
              " [6] \"Exterior2nd\"  \"MasVnrType\"   \"MasVnrArea\"   \"BsmtQual\"     \"BsmtCond\"    \n",
              "[11] \"BsmtExposure\" \"BsmtFinType1\" \"BsmtFinSF1\"   \"BsmtFinType2\" \"BsmtFinSF2\"  \n",
              "[16] \"BsmtUnfSF\"    \"TotalBsmtSF\"  \"Electrical\"   \"BsmtFullBath\" \"BsmtHalfBath\"\n",
              "[21] \"KitchenQual\"  \"Functional\"   \"FireplaceQu\"  \"GarageType\"   \"GarageYrBlt\" \n",
              "[26] \"GarageFinish\" \"GarageCars\"   \"GarageArea\"   \"GarageQual\"   \"GarageCond\"  \n",
              "[31] \"PoolQC\"       \"Fence\"        \"MiscFeature\"  \"SaleType\"     \"SalePrice\"   "
            ]
          },
          "metadata": {}
        }
      ],
      "source": [
        "#Lets see the variables containing missing data\n",
        "\n",
        "NA_Var <- colnames(total)[colSums(is.na(total)) > 0]\n",
        "length(NA_Var)\n",
        "NA_Var"
      ]
    },
    {
      "cell_type": "markdown",
      "metadata": {
        "id": "Jy36n3KQGMfe"
      },
      "source": [
        "We can observe that there are 35 variables which have missing data"
      ]
    },
    {
      "cell_type": "markdown",
      "metadata": {
        "id": "RQNq1YejkFOm"
      },
      "source": [
        "**Performing Imputation -> Imputing the missing data**"
      ]
    },
    {
      "cell_type": "markdown",
      "metadata": {
        "id": "ZZrKz78vkxX6"
      },
      "source": [
        "We will go through every variable that contains NA values and impute them and at the same time grouping similar or dependent variables(eg. poolQC and poolArea).\n",
        "\n",
        "For clear and better undestanding we dealt with missing values of variables which resembled similarityy as a group."
      ]
    },
    {
      "cell_type": "markdown",
      "metadata": {
        "id": "40Fkh-Wa5IUo"
      },
      "source": [
        "**1. PoolQC and the PoolArea variables**"
      ]
    },
    {
      "cell_type": "code",
      "execution_count": null,
      "metadata": {
        "id": "t6SQ0JYhkKkV",
        "colab": {
          "base_uri": "https://localhost:8080/",
          "height": 106
        },
        "outputId": "6c093afa-b85a-4209-ff9b-964632db000b"
      },
      "outputs": [
        {
          "output_type": "stream",
          "name": "stderr",
          "text": [
            "The following `from` values were not present in `x`: Po, TA\n",
            "\n"
          ]
        },
        {
          "output_type": "display_data",
          "data": {
            "text/plain": [
              "\n",
              "   0    2    4    5 \n",
              "2909    2    4    4 "
            ]
          },
          "metadata": {}
        }
      ],
      "source": [
        "na.zero <- function (x) {\n",
        "    x[is.na(x)] <- 0\n",
        "    return(x)\n",
        "}\n",
        "total$PoolQC <- na.zero(total$PoolQC)\n",
        "total$PoolQC<-as.integer(revalue(total$PoolQC, c('Po' = 1, 'Fa' = 2, 'TA' = 3, 'Gd' = 4, 'Ex' = 5)))\n",
        "table(total$PoolQC)"
      ]
    },
    {
      "cell_type": "code",
      "execution_count": null,
      "metadata": {
        "id": "1C73d_JFsIcI",
        "colab": {
          "base_uri": "https://localhost:8080/",
          "height": 192
        },
        "outputId": "1eeb2892-6cdb-46ae-da45-613db563b035"
      },
      "outputs": [
        {
          "output_type": "display_data",
          "data": {
            "text/html": [
              "<table class=\"dataframe\">\n",
              "<caption>A data.frame: 3 × 3</caption>\n",
              "<thead>\n",
              "\t<tr><th></th><th scope=col>PoolArea</th><th scope=col>PoolQC</th><th scope=col>OverallQual</th></tr>\n",
              "\t<tr><th></th><th scope=col>&lt;int&gt;</th><th scope=col>&lt;int&gt;</th><th scope=col>&lt;int&gt;</th></tr>\n",
              "</thead>\n",
              "<tbody>\n",
              "\t<tr><th scope=row>2421</th><td>368</td><td>0</td><td>4</td></tr>\n",
              "\t<tr><th scope=row>2504</th><td>444</td><td>0</td><td>6</td></tr>\n",
              "\t<tr><th scope=row>2600</th><td>561</td><td>0</td><td>3</td></tr>\n",
              "</tbody>\n",
              "</table>\n"
            ],
            "text/markdown": "\nA data.frame: 3 × 3\n\n| <!--/--> | PoolArea &lt;int&gt; | PoolQC &lt;int&gt; | OverallQual &lt;int&gt; |\n|---|---|---|---|\n| 2421 | 368 | 0 | 4 |\n| 2504 | 444 | 0 | 6 |\n| 2600 | 561 | 0 | 3 |\n\n",
            "text/latex": "A data.frame: 3 × 3\n\\begin{tabular}{r|lll}\n  & PoolArea & PoolQC & OverallQual\\\\\n  & <int> & <int> & <int>\\\\\n\\hline\n\t2421 & 368 & 0 & 4\\\\\n\t2504 & 444 & 0 & 6\\\\\n\t2600 & 561 & 0 & 3\\\\\n\\end{tabular}\n",
            "text/plain": [
              "     PoolArea PoolQC OverallQual\n",
              "2421 368      0      4          \n",
              "2504 444      0      6          \n",
              "2600 561      0      3          "
            ]
          },
          "metadata": {}
        }
      ],
      "source": [
        "#imputing PoolQC and PoolArea values based on the Overall Quality of the houses\n",
        "\n",
        "total[total$PoolArea>0 & total$PoolQC==0, c('PoolArea', 'PoolQC', 'OverallQual')]\n",
        "\n",
        "total$PoolQC[2421] <- 2\n",
        "total$PoolQC[2504] <- 3\n",
        "total$PoolQC[2600] <- 2"
      ]
    },
    {
      "cell_type": "markdown",
      "metadata": {
        "id": "XVXdeRir5Z9j"
      },
      "source": [
        "**2. Miscellaneous feature**"
      ]
    },
    {
      "cell_type": "code",
      "execution_count": null,
      "metadata": {
        "id": "i52zC1d75f00",
        "colab": {
          "base_uri": "https://localhost:8080/",
          "height": 34
        },
        "outputId": "b5734083-ace7-4f43-e681-c871ed9bd62a"
      },
      "outputs": [
        {
          "output_type": "display_data",
          "data": {
            "text/html": [
              "<style>\n",
              ".dl-inline {width: auto; margin:0; padding: 0}\n",
              ".dl-inline>dt, .dl-inline>dd {float: none; width: auto; display: inline-block}\n",
              ".dl-inline>dt::after {content: \":\\0020\"; padding-right: .5ex}\n",
              ".dl-inline>dt:not(:first-of-type) {padding-left: .5ex}\n",
              "</style><dl class=dl-inline><dt>Gar2</dt><dd>5</dd><dt>None</dt><dd>2814</dd><dt>Othr</dt><dd>4</dd><dt>Shed</dt><dd>95</dd><dt>TenC</dt><dd>1</dd></dl>\n"
            ],
            "text/markdown": "Gar2\n:   5None\n:   2814Othr\n:   4Shed\n:   95TenC\n:   1\n\n",
            "text/latex": "\\begin{description*}\n\\item[Gar2] 5\n\\item[None] 2814\n\\item[Othr] 4\n\\item[Shed] 95\n\\item[TenC] 1\n\\end{description*}\n",
            "text/plain": [
              "Gar2 None Othr Shed TenC \n",
              "   5 2814    4   95    1 "
            ]
          },
          "metadata": {}
        }
      ],
      "source": [
        "#With 2814 NAs and the missing values are not ordinal, we will convert MiscFeature into a factor. Values\n",
        "\n",
        "total$MiscFeature[is.na(total$MiscFeature)] <- 'None'\n",
        "total$MiscFeature <- as.factor(total$MiscFeature)\n",
        "summary(total$MiscFeature)"
      ]
    },
    {
      "cell_type": "markdown",
      "metadata": {
        "id": "YDGR-ZXB6b5u"
      },
      "source": [
        "The variable seems unimportant to us when I look at the frequencies. The lower sales price for the shed could be explained by the fact that having a shed means \"no Garage.\"\n",
        "There is only one house with a tennis court in the training set, despite the fact that it makes perfect sense that a home with one would be expensive."
      ]
    },
    {
      "cell_type": "markdown",
      "metadata": {
        "id": "QSRHxg1T6swB"
      },
      "source": [
        "**3. Alley**"
      ]
    },
    {
      "cell_type": "markdown",
      "metadata": {
        "id": "wWiZwBJ67E6I"
      },
      "source": [
        "Alley will be converted into a factor since it has 2721 NAs and the values are not ordinal"
      ]
    },
    {
      "cell_type": "code",
      "execution_count": null,
      "metadata": {
        "id": "YEj-OJIF6vyu",
        "colab": {
          "base_uri": "https://localhost:8080/",
          "height": 34
        },
        "outputId": "9a1b1262-7a96-4489-de3c-4aa7ec04ae3d"
      },
      "outputs": [
        {
          "output_type": "display_data",
          "data": {
            "text/html": [
              "<style>\n",
              ".dl-inline {width: auto; margin:0; padding: 0}\n",
              ".dl-inline>dt, .dl-inline>dd {float: none; width: auto; display: inline-block}\n",
              ".dl-inline>dt::after {content: \":\\0020\"; padding-right: .5ex}\n",
              ".dl-inline>dt:not(:first-of-type) {padding-left: .5ex}\n",
              "</style><dl class=dl-inline><dt>Grvl</dt><dd>120</dd><dt>None</dt><dd>2721</dd><dt>Pave</dt><dd>78</dd></dl>\n"
            ],
            "text/markdown": "Grvl\n:   120None\n:   2721Pave\n:   78\n\n",
            "text/latex": "\\begin{description*}\n\\item[Grvl] 120\n\\item[None] 2721\n\\item[Pave] 78\n\\end{description*}\n",
            "text/plain": [
              "Grvl None Pave \n",
              " 120 2721   78 "
            ]
          },
          "metadata": {}
        }
      ],
      "source": [
        "total$Alley[is.na(total$Alley)] <- 'None'\n",
        "total$Alley <- as.factor(total$Alley)\n",
        "summary(total$Alley)"
      ]
    },
    {
      "cell_type": "markdown",
      "metadata": {
        "id": "PK0vrCm9-yxu"
      },
      "source": [
        "**4. Fence**"
      ]
    },
    {
      "cell_type": "code",
      "execution_count": null,
      "metadata": {
        "id": "e64Ms6s_-3Ba",
        "colab": {
          "base_uri": "https://localhost:8080/",
          "height": 71
        },
        "outputId": "1a5b7d12-50a9-40c5-85d5-cde02c14dba9"
      },
      "outputs": [
        {
          "output_type": "display_data",
          "data": {
            "text/plain": [
              "\n",
              "GdPrv  GdWo MnPrv  MnWw  None \n",
              "  118   112   329    12  2348 "
            ]
          },
          "metadata": {}
        }
      ],
      "source": [
        "# Fence has 2348 NAs and the values seem to be ordinal\n",
        "\n",
        "total$Fence[is.na(total$Fence)] <- 'None'\n",
        "table(total$Fence)"
      ]
    },
    {
      "cell_type": "code",
      "execution_count": null,
      "metadata": {
        "id": "sqtCGE0M_ITt",
        "colab": {
          "base_uri": "https://localhost:8080/",
          "height": 255
        },
        "outputId": "546f4712-ac98-4fb0-c734-1cc5771a960c"
      },
      "outputs": [
        {
          "output_type": "display_data",
          "data": {
            "text/html": [
              "<table class=\"dataframe\">\n",
              "<caption>A tibble: 5 × 3</caption>\n",
              "<thead>\n",
              "\t<tr><th scope=col>Fence</th><th scope=col>median</th><th scope=col>counts</th></tr>\n",
              "\t<tr><th scope=col>&lt;chr&gt;</th><th scope=col>&lt;dbl&gt;</th><th scope=col>&lt;int&gt;</th></tr>\n",
              "</thead>\n",
              "<tbody>\n",
              "\t<tr><td>GdPrv</td><td>167500</td><td>  59</td></tr>\n",
              "\t<tr><td>GdWo </td><td>138750</td><td>  54</td></tr>\n",
              "\t<tr><td>MnPrv</td><td>137450</td><td> 157</td></tr>\n",
              "\t<tr><td>MnWw </td><td>130000</td><td>  11</td></tr>\n",
              "\t<tr><td>None </td><td>173000</td><td>1179</td></tr>\n",
              "</tbody>\n",
              "</table>\n"
            ],
            "text/markdown": "\nA tibble: 5 × 3\n\n| Fence &lt;chr&gt; | median &lt;dbl&gt; | counts &lt;int&gt; |\n|---|---|---|\n| GdPrv | 167500 |   59 |\n| GdWo  | 138750 |   54 |\n| MnPrv | 137450 |  157 |\n| MnWw  | 130000 |   11 |\n| None  | 173000 | 1179 |\n\n",
            "text/latex": "A tibble: 5 × 3\n\\begin{tabular}{lll}\n Fence & median & counts\\\\\n <chr> & <dbl> & <int>\\\\\n\\hline\n\t GdPrv & 167500 &   59\\\\\n\t GdWo  & 138750 &   54\\\\\n\t MnPrv & 137450 &  157\\\\\n\t MnWw  & 130000 &   11\\\\\n\t None  & 173000 & 1179\\\\\n\\end{tabular}\n",
            "text/plain": [
              "  Fence median counts\n",
              "1 GdPrv 167500   59  \n",
              "2 GdWo  138750   54  \n",
              "3 MnPrv 137450  157  \n",
              "4 MnWw  130000   11  \n",
              "5 None  173000 1179  "
            ]
          },
          "metadata": {}
        }
      ],
      "source": [
        "total[!is.na(total$SalePrice),] %>% group_by(Fence) %>% dplyr :: summarise(median = median(SalePrice), counts=n())"
      ]
    },
    {
      "cell_type": "code",
      "execution_count": null,
      "metadata": {
        "id": "nv9fT54b_d_T"
      },
      "outputs": [],
      "source": [
        "#since the values seem not to be ordinal, we will convert fence into a factor\n",
        "\n",
        "total$Fence <- as.factor(total$Fence)"
      ]
    },
    {
      "cell_type": "markdown",
      "metadata": {
        "id": "kQq9Q0TwJ0GE"
      },
      "source": [
        "**5. Fireplace variables**(remember -look at this in kg code omitted fireplaces since it has no NA)"
      ]
    },
    {
      "cell_type": "code",
      "execution_count": null,
      "metadata": {
        "id": "dhXL25_MJ14R",
        "colab": {
          "base_uri": "https://localhost:8080/",
          "height": 71
        },
        "outputId": "b37fb0db-c012-4724-d187-a31ab727787a"
      },
      "outputs": [
        {
          "output_type": "display_data",
          "data": {
            "text/plain": [
              "\n",
              "   0    1    2    3    4    5 \n",
              "1420   46   74  592  744   43 "
            ]
          },
          "metadata": {}
        }
      ],
      "source": [
        "# we are going to group the fireplace variables and fireplace values are ordinal\n",
        "\n",
        "na.zero <- function (x) {\n",
        "    x[is.na(x)] <- 0\n",
        "    return(x)\n",
        "}\n",
        "total$FireplaceQu <- na.zero(total$FireplaceQu)\n",
        "total$FireplaceQu <- as.integer(revalue(total$FireplaceQu, c('Po' = 1, 'Fa' = 2, 'TA' = 3, 'Gd' = 4, 'Ex' = 5)))\n",
        "table(total$FireplaceQu)\n"
      ]
    },
    {
      "cell_type": "markdown",
      "metadata": {
        "id": "uLW3mxWjM1wl"
      },
      "source": [
        "**6. Lot variables**"
      ]
    },
    {
      "cell_type": "code",
      "execution_count": null,
      "metadata": {
        "id": "xLkRZf6RM4cI"
      },
      "outputs": [],
      "source": [
        "#There are 3 variables connected by Lot\n",
        "\n",
        "#1.LotFrontage has 486 NAs, we are going to impute with median\n",
        "for (i in 1:nrow(total)){\n",
        "        if(is.na(total$LotFrontage[i])){\n",
        "               total$LotFrontage[i] <- as.integer(median(total$LotFrontage[total$Neighborhood==total$Neighborhood[i]], na.rm=TRUE))\n",
        "        }\n",
        "}\n"
      ]
    },
    {
      "cell_type": "code",
      "execution_count": null,
      "metadata": {
        "id": "JK1xz5RhO6cY"
      },
      "outputs": [],
      "source": [
        "#2. LotShape - No NAs. Values seem ordinal (Regular=best)\n",
        "total$LotShape<-as.integer(revalue(total$LotShape, c('IR3'=0, 'IR2'=1, 'IR1'=2, 'Reg'=3)))"
      ]
    },
    {
      "cell_type": "code",
      "execution_count": null,
      "metadata": {
        "id": "5hcrF3BlO97A"
      },
      "outputs": [],
      "source": [
        "#3. LotConfig - converting to factor since the visualisation shows values are not ordinal\n",
        "total$LotConfig <- as.factor(total$LotConfig)"
      ]
    },
    {
      "cell_type": "markdown",
      "metadata": {
        "id": "H8H06G_bOJ1V"
      },
      "source": [
        "**7. Garges - 7 variables**"
      ]
    },
    {
      "cell_type": "code",
      "execution_count": null,
      "metadata": {
        "id": "wFuDi1LPO1sa"
      },
      "outputs": [],
      "source": [
        "#Two of those have one NA (GarageCars and GarageArea), one has 157 NAs (GarageType), 4 variables have 159 NAs.\n",
        "#Let's replace all 159 missing GarageYrBlt: Year garage was built values with the values in YearBuilt\n",
        "total$GarageYrBlt[is.na(total$GarageYrBlt)] <- total$YearBuilt[is.na(total$GarageYrBlt)]"
      ]
    },
    {
      "cell_type": "code",
      "execution_count": null,
      "metadata": {
        "id": "tuotc0aKPSY7",
        "colab": {
          "base_uri": "https://localhost:8080/",
          "height": 34
        },
        "outputId": "8ae34918-9c8a-4eb8-9606-6d806cb99eff"
      },
      "outputs": [
        {
          "output_type": "display_data",
          "data": {
            "text/html": [
              "157"
            ],
            "text/markdown": "157",
            "text/latex": "157",
            "text/plain": [
              "[1] 157"
            ]
          },
          "metadata": {}
        }
      ],
      "source": [
        "#check if all 157 NAs are the same observations among the variables with 157/159 NAs\n",
        "length(which(is.na(total$GarageType) & is.na(total$GarageFinish) & is.na(total$GarageCond) & is.na(total$GarageQual)))"
      ]
    },
    {
      "cell_type": "code",
      "execution_count": null,
      "metadata": {
        "id": "GSU4i8B0PrjG",
        "colab": {
          "base_uri": "https://localhost:8080/",
          "height": 124
        },
        "outputId": "2f84537c-8f15-419e-eb84-32aa079a52ed"
      },
      "outputs": [
        {
          "output_type": "display_data",
          "data": {
            "text/plain": [
              "\n",
              "\n",
              "|     | GarageCars| GarageArea|GarageType |GarageCond |GarageQual |GarageFinish |\n",
              "|:----|----------:|----------:|:----------|:----------|:----------|:------------|\n",
              "|2127 |          1|        360|Detchd     |NA         |NA         |NA           |\n",
              "|2577 |         NA|         NA|Detchd     |NA         |NA         |NA           |"
            ]
          },
          "metadata": {}
        }
      ],
      "source": [
        "#Find the 2 additional NAs\n",
        "kable(total[!is.na(total$GarageType) & is.na(total$GarageFinish), c('GarageCars', 'GarageArea', 'GarageType', 'GarageCond', 'GarageQual', 'GarageFinish')])"
      ]
    },
    {
      "cell_type": "code",
      "execution_count": null,
      "metadata": {
        "id": "SmaMPVE9PxyD",
        "colab": {
          "base_uri": "https://localhost:8080/",
          "height": 106
        },
        "outputId": "3312b7f9-c173-489d-da60-e0c62945c4a7"
      },
      "outputs": [
        {
          "output_type": "display_data",
          "data": {
            "text/plain": [
              "\n",
              "\n",
              "|     | GarageYrBlt| GarageCars| GarageArea|GarageType |GarageCond |GarageQual |GarageFinish |\n",
              "|:----|-----------:|----------:|----------:|:----------|:----------|:----------|:------------|\n",
              "|2127 |        1910|          1|        360|Detchd     |TA         |TA         |Unf          |"
            ]
          },
          "metadata": {}
        }
      ],
      "source": [
        "#Imputing modes.\n",
        "total$GarageCond[2127] <- names(sort(-table(total$GarageCond)))[1]\n",
        "total$GarageQual[2127] <- names(sort(-table(total$GarageQual)))[1]\n",
        "total$GarageFinish[2127] <- names(sort(-table(total$GarageFinish)))[1]\n",
        "\n",
        "#display \"fixed\" house\n",
        "kable(total[2127, c('GarageYrBlt', 'GarageCars', 'GarageArea', 'GarageType', 'GarageCond', 'GarageQual', 'GarageFinish')])"
      ]
    },
    {
      "cell_type": "code",
      "execution_count": null,
      "metadata": {
        "id": "D7D8HBbsQDG7"
      },
      "outputs": [],
      "source": [
        "#fixing 3 values for house 2577\n",
        "total$GarageCars[2577] <- 0\n",
        "total$GarageArea[2577] <- 0\n",
        "total$GarageType[2577] <- NA"
      ]
    },
    {
      "cell_type": "code",
      "execution_count": null,
      "metadata": {
        "id": "bvLwk-8wQKMT",
        "colab": {
          "base_uri": "https://localhost:8080/",
          "height": 34
        },
        "outputId": "0ba275c9-949c-4a06-9c94-9cd7a24418bc"
      },
      "outputs": [
        {
          "output_type": "display_data",
          "data": {
            "text/html": [
              "158"
            ],
            "text/markdown": "158",
            "text/latex": "158",
            "text/plain": [
              "[1] 158"
            ]
          },
          "metadata": {}
        }
      ],
      "source": [
        "#check if NAs of the character variables are now all 158\n",
        "length(which(is.na(total$GarageType) & is.na(total$GarageFinish) & is.na(total$GarageCond) & is.na(total$GarageQual)))"
      ]
    },
    {
      "cell_type": "markdown",
      "metadata": {
        "id": "M4jiiJchQW6R"
      },
      "source": [
        "Now, the 4 character variables related to garage all have the same set of 158 NAs, which correspond to ‘No Garage’."
      ]
    },
    {
      "cell_type": "code",
      "execution_count": null,
      "metadata": {
        "id": "8xNQEEvFQXZ8"
      },
      "outputs": [],
      "source": [
        "#Lets impute(remember)\n",
        "#1. GarageType - converting to factor since values do not seem to be ordinal\n",
        "total$GarageType[is.na(total$GarageType)] <- 'No Garage'\n",
        "total$GarageType <- as.factor(total$GarageType)\n"
      ]
    },
    {
      "cell_type": "code",
      "execution_count": null,
      "metadata": {
        "id": "nvggpRqsPUAz"
      },
      "outputs": [],
      "source": [
        "\n",
        "#2. GarageFinis - The values are ordinal\n",
        "total$GarageFinish <- na.zero(total$GarageFinish)\n",
        "total$GarageFinish<-as.integer(revalue(total$GarageFinish, c('Unf'=1, 'RFn'=2, 'Fin'=3)))\n"
      ]
    },
    {
      "cell_type": "code",
      "execution_count": null,
      "metadata": {
        "id": "RM5OChbkPXrf"
      },
      "outputs": [],
      "source": [
        "#3. GarageQual - can be made ordinal\n",
        "total$GarageQual <- na.zero(total$GarageQual)\n",
        "total$GarageQual<-as.integer(revalue(total$GarageQual, c('Po' = 1, 'Fa' = 2, 'TA' = 3, 'Gd' = 4, 'Ex' = 5)))\n"
      ]
    },
    {
      "cell_type": "code",
      "execution_count": null,
      "metadata": {
        "id": "5lqomB3cPb4v"
      },
      "outputs": [],
      "source": [
        "#4. GarageCond - can be made ordinal\n",
        "total$GarageCond <- na.zero(total$GarageCond)\n",
        "total$GarageCond<-as.integer(revalue(total$GarageCond, c('Po' = 1, 'Fa' = 2, 'TA' = 3, 'Gd' = 4, 'Ex' = 5)))"
      ]
    },
    {
      "cell_type": "markdown",
      "metadata": {
        "id": "MsEdUHoKTTHn"
      },
      "source": [
        "**8. Basement - 11 variables**"
      ]
    },
    {
      "cell_type": "code",
      "execution_count": null,
      "metadata": {
        "id": "DXdaQcXtTaQM",
        "colab": {
          "base_uri": "https://localhost:8080/",
          "height": 34
        },
        "outputId": "fed81727-1a4e-44a5-a384-7e64d5dfc0d5"
      },
      "outputs": [
        {
          "output_type": "display_data",
          "data": {
            "text/html": [
              "79"
            ],
            "text/markdown": "79",
            "text/latex": "79",
            "text/plain": [
              "[1] 79"
            ]
          },
          "metadata": {}
        }
      ],
      "source": [
        "#checking if all 79 NAs are the same observations among the variables with 80+ NAs\n",
        "length(which(is.na(total$BsmtQual) & is.na(total$BsmtCond) & is.na(total$BsmtExposure) & is.na(total$BsmtFinType1) & is.na(total$BsmtFinType2)))"
      ]
    },
    {
      "cell_type": "code",
      "execution_count": null,
      "metadata": {
        "id": "MATDJRsfZD0c",
        "colab": {
          "base_uri": "https://localhost:8080/",
          "height": 380
        },
        "outputId": "b63ec0dd-acda-4a5e-ba38-216c8caa4fc8"
      },
      "outputs": [
        {
          "output_type": "display_data",
          "data": {
            "text/html": [
              "<table class=\"dataframe\">\n",
              "<caption>A data.frame: 9 × 5</caption>\n",
              "<thead>\n",
              "\t<tr><th></th><th scope=col>BsmtQual</th><th scope=col>BsmtCond</th><th scope=col>BsmtExposure</th><th scope=col>BsmtFinType1</th><th scope=col>BsmtFinType2</th></tr>\n",
              "\t<tr><th></th><th scope=col>&lt;chr&gt;</th><th scope=col>&lt;chr&gt;</th><th scope=col>&lt;chr&gt;</th><th scope=col>&lt;chr&gt;</th><th scope=col>&lt;chr&gt;</th></tr>\n",
              "</thead>\n",
              "<tbody>\n",
              "\t<tr><th scope=row>333</th><td>Gd</td><td>TA</td><td>No</td><td>GLQ</td><td>NA </td></tr>\n",
              "\t<tr><th scope=row>949</th><td>Gd</td><td>TA</td><td>NA</td><td>Unf</td><td>Unf</td></tr>\n",
              "\t<tr><th scope=row>1488</th><td>Gd</td><td>TA</td><td>NA</td><td>Unf</td><td>Unf</td></tr>\n",
              "\t<tr><th scope=row>2041</th><td>Gd</td><td>NA</td><td>Mn</td><td>GLQ</td><td>Rec</td></tr>\n",
              "\t<tr><th scope=row>2186</th><td>TA</td><td>NA</td><td>No</td><td>BLQ</td><td>Unf</td></tr>\n",
              "\t<tr><th scope=row>2218</th><td>NA</td><td>Fa</td><td>No</td><td>Unf</td><td>Unf</td></tr>\n",
              "\t<tr><th scope=row>2219</th><td>NA</td><td>TA</td><td>No</td><td>Unf</td><td>Unf</td></tr>\n",
              "\t<tr><th scope=row>2349</th><td>Gd</td><td>TA</td><td>NA</td><td>Unf</td><td>Unf</td></tr>\n",
              "\t<tr><th scope=row>2525</th><td>TA</td><td>NA</td><td>Av</td><td>ALQ</td><td>Unf</td></tr>\n",
              "</tbody>\n",
              "</table>\n"
            ],
            "text/markdown": "\nA data.frame: 9 × 5\n\n| <!--/--> | BsmtQual &lt;chr&gt; | BsmtCond &lt;chr&gt; | BsmtExposure &lt;chr&gt; | BsmtFinType1 &lt;chr&gt; | BsmtFinType2 &lt;chr&gt; |\n|---|---|---|---|---|---|\n| 333 | Gd | TA | No | GLQ | NA  |\n| 949 | Gd | TA | NA | Unf | Unf |\n| 1488 | Gd | TA | NA | Unf | Unf |\n| 2041 | Gd | NA | Mn | GLQ | Rec |\n| 2186 | TA | NA | No | BLQ | Unf |\n| 2218 | NA | Fa | No | Unf | Unf |\n| 2219 | NA | TA | No | Unf | Unf |\n| 2349 | Gd | TA | NA | Unf | Unf |\n| 2525 | TA | NA | Av | ALQ | Unf |\n\n",
            "text/latex": "A data.frame: 9 × 5\n\\begin{tabular}{r|lllll}\n  & BsmtQual & BsmtCond & BsmtExposure & BsmtFinType1 & BsmtFinType2\\\\\n  & <chr> & <chr> & <chr> & <chr> & <chr>\\\\\n\\hline\n\t333 & Gd & TA & No & GLQ & NA \\\\\n\t949 & Gd & TA & NA & Unf & Unf\\\\\n\t1488 & Gd & TA & NA & Unf & Unf\\\\\n\t2041 & Gd & NA & Mn & GLQ & Rec\\\\\n\t2186 & TA & NA & No & BLQ & Unf\\\\\n\t2218 & NA & Fa & No & Unf & Unf\\\\\n\t2219 & NA & TA & No & Unf & Unf\\\\\n\t2349 & Gd & TA & NA & Unf & Unf\\\\\n\t2525 & TA & NA & Av & ALQ & Unf\\\\\n\\end{tabular}\n",
            "text/plain": [
              "     BsmtQual BsmtCond BsmtExposure BsmtFinType1 BsmtFinType2\n",
              "333  Gd       TA       No           GLQ          NA          \n",
              "949  Gd       TA       NA           Unf          Unf         \n",
              "1488 Gd       TA       NA           Unf          Unf         \n",
              "2041 Gd       NA       Mn           GLQ          Rec         \n",
              "2186 TA       NA       No           BLQ          Unf         \n",
              "2218 NA       Fa       No           Unf          Unf         \n",
              "2219 NA       TA       No           Unf          Unf         \n",
              "2349 Gd       TA       NA           Unf          Unf         \n",
              "2525 TA       NA       Av           ALQ          Unf         "
            ]
          },
          "metadata": {}
        }
      ],
      "source": [
        "#Finding the additional NAs; BsmtFinType1 is the one with 79 NAs\n",
        "total[!is.na(total$BsmtFinType1) & (is.na(total$BsmtCond)|is.na(total$BsmtQual)|is.na(total$BsmtExposure)|is.na(total$BsmtFinType2)), c('BsmtQual', 'BsmtCond', 'BsmtExposure', 'BsmtFinType1', 'BsmtFinType2')]"
      ]
    },
    {
      "cell_type": "code",
      "execution_count": null,
      "metadata": {
        "id": "I-o2rS1v13Np"
      },
      "outputs": [],
      "source": [
        "#Imputing modes.\n",
        "total$BsmtFinType2[333] <- names(sort(-table(total$BsmtFinType2)))[1]\n",
        "total$BsmtExposure[c(949, 1488, 2349)] <- names(sort(-table(total$BsmtExposure)))[1]\n",
        "total$BsmtCond[c(2041, 2186, 2525)] <- names(sort(-table(total$BsmtCond)))[1]\n",
        "total$BsmtQual[c(2218, 2219)] <- names(sort(-table(total$BsmtQual)))[1]"
      ]
    },
    {
      "cell_type": "code",
      "execution_count": null,
      "metadata": {
        "id": "c_X7xTv32Mkw",
        "colab": {
          "base_uri": "https://localhost:8080/"
        },
        "outputId": "0aa6776b-77e2-46ca-a824-07ba648b96ee"
      },
      "outputs": [
        {
          "output_type": "stream",
          "name": "stderr",
          "text": [
            "The following `from` values were not present in `x`: Po\n",
            "\n"
          ]
        }
      ],
      "source": [
        "#BsmtQual\n",
        "total$BsmtQual <- na.zero(total$BsmtQual)\n",
        "total$BsmtQual<-as.integer(revalue(total$BsmtQual, c('Po' = 1, 'Fa' = 2, 'TA' = 3, 'Gd' = 4, 'Ex' = 5)))"
      ]
    },
    {
      "cell_type": "code",
      "execution_count": null,
      "metadata": {
        "id": "ur9KPEK7PsVf",
        "colab": {
          "base_uri": "https://localhost:8080/"
        },
        "outputId": "8ea705a9-8fdd-4eff-ffb5-e4b9d5fe8f05"
      },
      "outputs": [
        {
          "output_type": "stream",
          "name": "stderr",
          "text": [
            "The following `from` values were not present in `x`: Ex\n",
            "\n"
          ]
        }
      ],
      "source": [
        "\n",
        "#BsmtCond\n",
        " total$BsmtCond <- na.zero(total$BsmtCond)\n",
        " total$BsmtCond<-as.integer(revalue(total$BsmtCond, c('Po' = 1, 'Fa' = 2, 'TA' = 3, 'Gd' = 4, 'Ex' = 5)))"
      ]
    },
    {
      "cell_type": "code",
      "execution_count": null,
      "metadata": {
        "id": "tv5pkPkPPwe-"
      },
      "outputs": [],
      "source": [
        "# #BsmtExposure\n",
        "total$BsmtExposure <- na.zero(total$BsmtExposure)\n",
        "total$BsmtExposure<-as.integer(revalue(total$BsmtExposure, c('No'=1, 'Mn'=2, 'Av'=3, 'Gd'=4)))\n",
        "\n"
      ]
    },
    {
      "cell_type": "code",
      "execution_count": null,
      "metadata": {
        "id": "iKKm3DpvPyos"
      },
      "outputs": [],
      "source": [
        "# #BsmtFinType1\n",
        "total$BsmtFinType1 <- na.zero(total$BsmtFinType1)\n",
        "total$BsmtFinType1<-as.integer(revalue(total$BsmtFinType1, c('Unf'=1, 'LwQ'=2, 'Rec'=3, 'BLQ'=4, 'ALQ'=5, 'GLQ'=6)))\n"
      ]
    },
    {
      "cell_type": "code",
      "execution_count": null,
      "metadata": {
        "id": "1nYNo9qxP0dn"
      },
      "outputs": [],
      "source": [
        "# #BsmtFinType2\n",
        "total$BsmtFinType2 <- na.zero(total$BsmtFinType2)\n",
        "total$BsmtFinType2<-as.integer(revalue(total$BsmtFinType2, c('Unf'=1, 'LwQ'=2, 'Rec'=3, 'BLQ'=4, 'ALQ'=5, 'GLQ'=6)))\n"
      ]
    },
    {
      "cell_type": "code",
      "execution_count": null,
      "metadata": {
        "id": "P_AwaYG53NXA",
        "colab": {
          "base_uri": "https://localhost:8080/",
          "height": 161
        },
        "outputId": "5c30d274-a0a7-4fce-dbaf-c4e85214601d"
      },
      "outputs": [
        {
          "output_type": "display_data",
          "data": {
            "text/html": [
              "<table class=\"dataframe\">\n",
              "<caption>A data.frame: 2 × 7</caption>\n",
              "<thead>\n",
              "\t<tr><th></th><th scope=col>BsmtQual</th><th scope=col>BsmtFullBath</th><th scope=col>BsmtHalfBath</th><th scope=col>BsmtFinSF1</th><th scope=col>BsmtFinSF2</th><th scope=col>BsmtUnfSF</th><th scope=col>TotalBsmtSF</th></tr>\n",
              "\t<tr><th></th><th scope=col>&lt;int&gt;</th><th scope=col>&lt;int&gt;</th><th scope=col>&lt;int&gt;</th><th scope=col>&lt;int&gt;</th><th scope=col>&lt;int&gt;</th><th scope=col>&lt;int&gt;</th><th scope=col>&lt;int&gt;</th></tr>\n",
              "</thead>\n",
              "<tbody>\n",
              "\t<tr><th scope=row>2121</th><td>0</td><td>NA</td><td>NA</td><td>NA</td><td>NA</td><td>NA</td><td>NA</td></tr>\n",
              "\t<tr><th scope=row>2189</th><td>0</td><td>NA</td><td>NA</td><td> 0</td><td> 0</td><td> 0</td><td> 0</td></tr>\n",
              "</tbody>\n",
              "</table>\n"
            ],
            "text/markdown": "\nA data.frame: 2 × 7\n\n| <!--/--> | BsmtQual &lt;int&gt; | BsmtFullBath &lt;int&gt; | BsmtHalfBath &lt;int&gt; | BsmtFinSF1 &lt;int&gt; | BsmtFinSF2 &lt;int&gt; | BsmtUnfSF &lt;int&gt; | TotalBsmtSF &lt;int&gt; |\n|---|---|---|---|---|---|---|---|\n| 2121 | 0 | NA | NA | NA | NA | NA | NA |\n| 2189 | 0 | NA | NA |  0 |  0 |  0 |  0 |\n\n",
            "text/latex": "A data.frame: 2 × 7\n\\begin{tabular}{r|lllllll}\n  & BsmtQual & BsmtFullBath & BsmtHalfBath & BsmtFinSF1 & BsmtFinSF2 & BsmtUnfSF & TotalBsmtSF\\\\\n  & <int> & <int> & <int> & <int> & <int> & <int> & <int>\\\\\n\\hline\n\t2121 & 0 & NA & NA & NA & NA & NA & NA\\\\\n\t2189 & 0 & NA & NA &  0 &  0 &  0 &  0\\\\\n\\end{tabular}\n",
            "text/plain": [
              "     BsmtQual BsmtFullBath BsmtHalfBath BsmtFinSF1 BsmtFinSF2 BsmtUnfSF\n",
              "2121 0        NA           NA           NA         NA         NA       \n",
              "2189 0        NA           NA            0          0          0       \n",
              "     TotalBsmtSF\n",
              "2121 NA         \n",
              "2189  0         "
            ]
          },
          "metadata": {}
        }
      ],
      "source": [
        "total[(is.na(total$BsmtFullBath)|is.na(total$BsmtHalfBath)|is.na(total$BsmtFinSF1)|is.na(total$BsmtFinSF2)|is.na(total$BsmtUnfSF)|is.na(total$TotalBsmtSF)), c('BsmtQual', 'BsmtFullBath', 'BsmtHalfBath', 'BsmtFinSF1', 'BsmtFinSF2', 'BsmtUnfSF', 'TotalBsmtSF')]\n"
      ]
    },
    {
      "cell_type": "code",
      "execution_count": null,
      "metadata": {
        "id": "uxDA3JgX3pq-"
      },
      "outputs": [],
      "source": [
        "#BsmtFullBath\n",
        "total$BsmtFullBath <- na.zero(total$BsmtFullBath)\n",
        "\n",
        "#BsmtHalfBath\n",
        "total$BsmtHalfBath <- na.zero(total$BsmtHalfBath)\n",
        "\n",
        "#BsmtFinSF1\n",
        "total$BsmtFinSF1 <- na.zero(total$BsmtFinSF1)\n",
        "\n",
        "#BsmtFinSF2\n",
        "total$BsmtFinSF2 <- na.zero(total$BsmtFinSF2)\n",
        "\n",
        "#BsmtUnfSF\n",
        "total$BsmtUnfSF <- na.zero(total$BsmtUnfSF)\n",
        "\n",
        "#TotalBsmtSF\n",
        "total$TotalBsmtSF <- na.zero(total$TotalBsmtSF)\n"
      ]
    },
    {
      "cell_type": "markdown",
      "metadata": {
        "id": "qlunjpLT780B"
      },
      "source": [
        "**9. Masonry veneer type and Area**"
      ]
    },
    {
      "cell_type": "code",
      "execution_count": null,
      "metadata": {
        "id": "kvsfzjre8AUz",
        "colab": {
          "base_uri": "https://localhost:8080/",
          "height": 259
        },
        "outputId": "6597e5de-6e4e-4a08-b4d1-f4cfd09df3fb"
      },
      "outputs": [
        {
          "output_type": "display_data",
          "data": {
            "text/html": [
              "23"
            ],
            "text/markdown": "23",
            "text/latex": "23",
            "text/plain": [
              "[1] 23"
            ]
          },
          "metadata": {}
        },
        {
          "output_type": "display_data",
          "data": {
            "text/html": [
              "<table class=\"dataframe\">\n",
              "<caption>A data.frame: 1 × 2</caption>\n",
              "<thead>\n",
              "\t<tr><th></th><th scope=col>MasVnrType</th><th scope=col>MasVnrArea</th></tr>\n",
              "\t<tr><th></th><th scope=col>&lt;chr&gt;</th><th scope=col>&lt;int&gt;</th></tr>\n",
              "</thead>\n",
              "<tbody>\n",
              "\t<tr><th scope=row>2611</th><td>NA</td><td>198</td></tr>\n",
              "</tbody>\n",
              "</table>\n"
            ],
            "text/markdown": "\nA data.frame: 1 × 2\n\n| <!--/--> | MasVnrType &lt;chr&gt; | MasVnrArea &lt;int&gt; |\n|---|---|---|\n| 2611 | NA | 198 |\n\n",
            "text/latex": "A data.frame: 1 × 2\n\\begin{tabular}{r|ll}\n  & MasVnrType & MasVnrArea\\\\\n  & <chr> & <int>\\\\\n\\hline\n\t2611 & NA & 198\\\\\n\\end{tabular}\n",
            "text/plain": [
              "     MasVnrType MasVnrArea\n",
              "2611 NA         198       "
            ]
          },
          "metadata": {}
        },
        {
          "output_type": "display_data",
          "data": {
            "text/html": [
              "<table class=\"dataframe\">\n",
              "<caption>A data.frame: 1 × 2</caption>\n",
              "<thead>\n",
              "\t<tr><th></th><th scope=col>MasVnrType</th><th scope=col>MasVnrArea</th></tr>\n",
              "\t<tr><th></th><th scope=col>&lt;chr&gt;</th><th scope=col>&lt;int&gt;</th></tr>\n",
              "</thead>\n",
              "<tbody>\n",
              "\t<tr><th scope=row>2611</th><td>BrkFace</td><td>198</td></tr>\n",
              "</tbody>\n",
              "</table>\n"
            ],
            "text/markdown": "\nA data.frame: 1 × 2\n\n| <!--/--> | MasVnrType &lt;chr&gt; | MasVnrArea &lt;int&gt; |\n|---|---|---|\n| 2611 | BrkFace | 198 |\n\n",
            "text/latex": "A data.frame: 1 × 2\n\\begin{tabular}{r|ll}\n  & MasVnrType & MasVnrArea\\\\\n  & <chr> & <int>\\\\\n\\hline\n\t2611 & BrkFace & 198\\\\\n\\end{tabular}\n",
            "text/plain": [
              "     MasVnrType MasVnrArea\n",
              "2611 BrkFace    198       "
            ]
          },
          "metadata": {}
        }
      ],
      "source": [
        "#check if the 23 houses with veneer area NA are also NA in the veneer type\n",
        "length(which(is.na(total$MasVnrType) & is.na(total$MasVnrArea)))\n",
        "\n",
        "#find the one that should have a MasVnrType\n",
        "total[is.na(total$MasVnrType) & !is.na(total$MasVnrArea), c('MasVnrType', 'MasVnrArea')]\n",
        "\n",
        "\n",
        "#fix this veneer type by imputing the mode\n",
        "total$MasVnrType[2611] <- names(sort(-table(total$MasVnrType)))[2] #taking the 2nd value as the 1st is 'none'\n",
        "total[2611, c('MasVnrType', 'MasVnrArea')]\n"
      ]
    },
    {
      "cell_type": "code",
      "execution_count": null,
      "metadata": {
        "id": "s9q488j18VXX",
        "colab": {
          "base_uri": "https://localhost:8080/",
          "height": 224
        },
        "outputId": "239e478c-ebe6-4cec-d787-77eeecf6e2bd"
      },
      "outputs": [
        {
          "output_type": "display_data",
          "data": {
            "text/html": [
              "<table class=\"dataframe\">\n",
              "<caption>A tibble: 4 × 3</caption>\n",
              "<thead>\n",
              "\t<tr><th scope=col>MasVnrType</th><th scope=col>median</th><th scope=col>counts</th></tr>\n",
              "\t<tr><th scope=col>&lt;chr&gt;</th><th scope=col>&lt;dbl&gt;</th><th scope=col>&lt;int&gt;</th></tr>\n",
              "</thead>\n",
              "<tbody>\n",
              "\t<tr><td>BrkCmn </td><td>139000</td><td> 15</td></tr>\n",
              "\t<tr><td>None   </td><td>143125</td><td>872</td></tr>\n",
              "\t<tr><td>BrkFace</td><td>181000</td><td>445</td></tr>\n",
              "\t<tr><td>Stone  </td><td>246839</td><td>128</td></tr>\n",
              "</tbody>\n",
              "</table>\n"
            ],
            "text/markdown": "\nA tibble: 4 × 3\n\n| MasVnrType &lt;chr&gt; | median &lt;dbl&gt; | counts &lt;int&gt; |\n|---|---|---|\n| BrkCmn  | 139000 |  15 |\n| None    | 143125 | 872 |\n| BrkFace | 181000 | 445 |\n| Stone   | 246839 | 128 |\n\n",
            "text/latex": "A tibble: 4 × 3\n\\begin{tabular}{lll}\n MasVnrType & median & counts\\\\\n <chr> & <dbl> & <int>\\\\\n\\hline\n\t BrkCmn  & 139000 &  15\\\\\n\t None    & 143125 & 872\\\\\n\t BrkFace & 181000 & 445\\\\\n\t Stone   & 246839 & 128\\\\\n\\end{tabular}\n",
            "text/plain": [
              "  MasVnrType median counts\n",
              "1 BrkCmn     139000  15   \n",
              "2 None       143125 872   \n",
              "3 BrkFace    181000 445   \n",
              "4 Stone      246839 128   "
            ]
          },
          "metadata": {}
        }
      ],
      "source": [
        "#Masonry veneer type\n",
        "total$MasVnrType[is.na(total$MasVnrType)] <- 'None'\n",
        "\n",
        "total[!is.na(total$SalePrice),] %>% group_by(MasVnrType) %>% dplyr :: summarise(median = median(SalePrice), counts=n()) %>% arrange(median)\n"
      ]
    },
    {
      "cell_type": "code",
      "execution_count": null,
      "metadata": {
        "id": "3Oz3ktv58nQe"
      },
      "outputs": [],
      "source": [
        "Masonry <- c('None'=0, 'BrkCmn'=0, 'BrkFace'=1, 'Stone'=2)\n",
        "total$MasVnrType<-as.integer(revalue(total$MasVnrType, Masonry))"
      ]
    },
    {
      "cell_type": "code",
      "execution_count": null,
      "metadata": {
        "id": "OPG31-bu9KMU"
      },
      "outputs": [],
      "source": [
        "#MasVnrArea\n",
        "total$MasVnrArea <- na.zero(total$MasVnrArea)"
      ]
    },
    {
      "cell_type": "markdown",
      "metadata": {
        "id": "W4wWaDru9W2B"
      },
      "source": [
        "**10. MSZoning**"
      ]
    },
    {
      "cell_type": "code",
      "execution_count": null,
      "metadata": {
        "id": "JAX7SSCP9Y6z"
      },
      "outputs": [],
      "source": [
        "#imputing the mode - values are categorial\n",
        "total$MSZoning[is.na(total$MSZoning)] <- names(sort(-table(total$MSZoning)))[1]\n",
        "total$MSZoning <- as.factor(total$MSZoning)\n"
      ]
    },
    {
      "cell_type": "markdown",
      "metadata": {
        "id": "itrMll_K9yDt"
      },
      "source": [
        "**11. Kitchen**"
      ]
    },
    {
      "cell_type": "code",
      "execution_count": null,
      "metadata": {
        "id": "vRtGp5zy9z2R",
        "colab": {
          "base_uri": "https://localhost:8080/"
        },
        "outputId": "6d7f92c3-2397-48b2-b1eb-6e9c1e016000"
      },
      "outputs": [
        {
          "output_type": "stream",
          "name": "stderr",
          "text": [
            "The following `from` values were not present in `x`: None, Po\n",
            "\n"
          ]
        }
      ],
      "source": [
        "#Kitchen quality\n",
        "total$KitchenQual[is.na(total$KitchenQual)] <- 'TA' #replace with most common value\n",
        "total$KitchenQual<-as.integer(revalue(total$KitchenQual, c('None' = 0, 'Po' = 1, 'Fa' = 2, 'TA' = 3, 'Gd' = 4, 'Ex' = 5)))"
      ]
    },
    {
      "cell_type": "markdown",
      "metadata": {
        "id": "04AK1Sc7-5OY"
      },
      "source": [
        "**12. Utilities**"
      ]
    },
    {
      "cell_type": "code",
      "execution_count": null,
      "metadata": {
        "id": "v9jOagjx-_ZU",
        "colab": {
          "base_uri": "https://localhost:8080/",
          "height": 142
        },
        "outputId": "62bfccab-0c81-4e10-88a8-890e11c273a0"
      },
      "outputs": [
        {
          "output_type": "display_data",
          "data": {
            "text/plain": [
              "\n",
              "\n",
              "|     | MSSubClass|MSZoning | LotFrontage| LotArea|Street |Alley | LotShape|LandContour |Utilities |\n",
              "|:----|----------:|:--------|-----------:|-------:|:------|:-----|--------:|:-----------|:---------|\n",
              "|945  |         20|RL       |          82|   14375|Pave   |None  |        2|Lvl         |NoSeWa    |\n",
              "|1916 |         30|RL       |         109|   21780|Grvl   |None  |        3|Lvl         |NA        |\n",
              "|1946 |         20|RL       |          64|   31220|Pave   |None  |        2|Bnk         |NA        |"
            ]
          },
          "metadata": {}
        }
      ],
      "source": [
        "kable(total[is.na(total$Utilities) | total$Utilities=='NoSeWa', 1:9])"
      ]
    },
    {
      "cell_type": "code",
      "execution_count": null,
      "metadata": {
        "id": "a2bB2XU7_I1E"
      },
      "outputs": [],
      "source": [
        "total$Utilities <- NULL"
      ]
    },
    {
      "cell_type": "markdown",
      "metadata": {
        "id": "V4S9InOo_PHd"
      },
      "source": [
        "**13. Functional**"
      ]
    },
    {
      "cell_type": "code",
      "execution_count": null,
      "metadata": {
        "id": "G16v-5Zn_QuE",
        "colab": {
          "base_uri": "https://localhost:8080/"
        },
        "outputId": "fb684886-7dba-4803-97de-92c3f724d5b7"
      },
      "outputs": [
        {
          "output_type": "stream",
          "name": "stderr",
          "text": [
            "The following `from` values were not present in `x`: Sal\n",
            "\n"
          ]
        }
      ],
      "source": [
        "#impute mode for the 1 NA\n",
        "total$Functional[is.na(total$Functional)] <- names(sort(-table(total$Functional)))[1]\n",
        "total$Functional <- as.integer(revalue(total$Functional, c('Sal'=0, 'Sev'=1, 'Maj2'=2, 'Maj1'=3, 'Mod'=4, 'Min2'=5, 'Min1'=6, 'Typ'=7)))\n"
      ]
    },
    {
      "cell_type": "markdown",
      "metadata": {
        "id": "wOPqWILc_nxZ"
      },
      "source": [
        "**14. exterior variables**"
      ]
    },
    {
      "cell_type": "code",
      "execution_count": null,
      "metadata": {
        "id": "Hnbn3xCC_ppl"
      },
      "outputs": [],
      "source": [
        "#Exterior1st\n",
        "total$Exterior1st[is.na(total$Exterior1st)] <- names(sort(-table(total$Exterior1st)))[1]\n",
        "total$Exterior1st <- as.factor(total$Exterior1st)\n",
        "\n",
        "#Exterior2nd\n",
        "total$Exterior2nd[is.na(total$Exterior2nd)] <- names(sort(-table(total$Exterior2nd)))[1]\n",
        "total$Exterior2nd <- as.factor(total$Exterior2nd)"
      ]
    },
    {
      "cell_type": "code",
      "execution_count": null,
      "metadata": {
        "id": "E5B0IGIBAHG3",
        "colab": {
          "base_uri": "https://localhost:8080/"
        },
        "outputId": "51e54a29-80ac-4fc2-fb3f-10258cdb5bb7"
      },
      "outputs": [
        {
          "output_type": "stream",
          "name": "stderr",
          "text": [
            "The following `from` values were not present in `x`: None, Po\n",
            "\n"
          ]
        }
      ],
      "source": [
        "#ExterQual\n",
        "total$ExterQual<-as.integer(revalue(total$ExterQual, c('None' = 0, 'Po' = 1, 'Fa' = 2, 'TA' = 3, 'Gd' = 4, 'Ex' = 5)))"
      ]
    },
    {
      "cell_type": "code",
      "execution_count": null,
      "metadata": {
        "id": "9hVX-P3_AWx6",
        "colab": {
          "base_uri": "https://localhost:8080/"
        },
        "outputId": "1955c8aa-bb04-48cc-f62e-ce4bac60b4eb"
      },
      "outputs": [
        {
          "output_type": "stream",
          "name": "stderr",
          "text": [
            "The following `from` values were not present in `x`: None\n",
            "\n"
          ]
        }
      ],
      "source": [
        "#ExterCond\n",
        "total$ExterCond<-as.integer(revalue(total$ExterCond, c('None' = 0, 'Po' = 1, 'Fa' = 2, 'TA' = 3, 'Gd' = 4, 'Ex' = 5)))"
      ]
    },
    {
      "cell_type": "markdown",
      "metadata": {
        "id": "MQGsysPNAnJ2"
      },
      "source": [
        "**15. Electrical**"
      ]
    },
    {
      "cell_type": "code",
      "execution_count": null,
      "metadata": {
        "id": "WtcmrR2QAq27"
      },
      "outputs": [],
      "source": [
        "#imputing mode\n",
        "total$Electrical[is.na(total$Electrical)] <- names(sort(-table(total$Electrical)))[1]\n",
        "total$Electrical <- as.factor(total$Electrical)"
      ]
    },
    {
      "cell_type": "markdown",
      "metadata": {
        "id": "i8b6EHRVA4po"
      },
      "source": [
        "**16. Sale**"
      ]
    },
    {
      "cell_type": "code",
      "execution_count": null,
      "metadata": {
        "id": "ljUVuMqWA7Eg"
      },
      "outputs": [],
      "source": [
        "#SaleType\n",
        "#imputing mode\n",
        "total$SaleType[is.na(total$SaleType)] <- names(sort(-table(total$SaleType)))[1]\n",
        "total$SaleType <- as.factor(total$SaleType)"
      ]
    },
    {
      "cell_type": "code",
      "execution_count": null,
      "metadata": {
        "id": "tt8kLsJwBDcZ"
      },
      "outputs": [],
      "source": [
        "#SaleCondition\n",
        "total$SaleCondition <- as.factor(total$SaleCondition)"
      ]
    },
    {
      "cell_type": "markdown",
      "metadata": {
        "id": "RlKFzMvVCF9k"
      },
      "source": [
        "**Dealing with the remaining character variables without missing values**"
      ]
    },
    {
      "cell_type": "code",
      "execution_count": null,
      "metadata": {
        "id": "2UOtkY98CNNk",
        "colab": {
          "base_uri": "https://localhost:8080/",
          "height": 34
        },
        "outputId": "1291b583-d849-45ad-a828-ef9778a3bb08"
      },
      "outputs": [
        {
          "output_type": "display_data",
          "data": {
            "text/html": [
              "15"
            ],
            "text/markdown": "15",
            "text/latex": "15",
            "text/plain": [
              "[1] 15"
            ]
          },
          "metadata": {}
        }
      ],
      "source": [
        "Charcol <- names(total[,sapply(total, is.character)])\n",
        "length(Charcol)"
      ]
    },
    {
      "cell_type": "code",
      "execution_count": null,
      "metadata": {
        "id": "50sZ5CzzDQXY",
        "colab": {
          "base_uri": "https://localhost:8080/"
        },
        "outputId": "e38bd22a-a0c9-40d9-98d2-78eaea58497c"
      },
      "outputs": [
        {
          "output_type": "stream",
          "name": "stderr",
          "text": [
            "The following `from` values were not present in `x`: None\n",
            "\n"
          ]
        }
      ],
      "source": [
        "#Foundation\n",
        "#values are not ordinal -> converting into factor\n",
        "total$Foundation <- as.factor(total$Foundation)\n",
        "\n",
        "#Heating\n",
        "total$Heating <- as.factor(total$Heating)\n",
        "\n",
        "# #HeatingQC\n",
        "# #making ordinal\n",
        "total$HeatingQC<-as.integer(revalue(total$HeatingQC,  c('None' = 0, 'Po' = 1, 'Fa' = 2, 'TA' = 3, 'Gd' = 4, 'Ex' = 5)))\n",
        "\n",
        "# #CentralAir\n",
        "total$CentralAir<-as.integer(revalue(total$CentralAir, c('N'=0, 'Y'=1)))\n",
        "\n",
        "# #RoofStyle\n",
        "total$RoofStyle <- as.factor(total$RoofStyle)\n",
        "\n",
        "# #RoofMatl\n",
        "total$RoofMatl <- as.factor(total$RoofMatl)\n",
        "\n",
        "# #LandContour\n",
        "total$LandContour <- as.factor(total$LandContour)\n",
        "\n",
        "# #LandSlope\n",
        "total$LandSlope<-as.integer(revalue(total$LandSlope, c('Sev'=0, 'Mod'=1, 'Gtl'=2)))\n",
        "\n",
        "# #BldgType\n",
        "total$BldgType <- as.factor(total$BldgType)\n",
        "\n",
        "# #HouseStyle\n",
        "total$HouseStyle <- as.factor(total$HouseStyle)\n",
        "\n",
        "# #Neighborhood\n",
        "total$Neighborhood <- as.factor(total$Neighborhood)\n",
        "\n",
        "# #Condition1\n",
        "total$Condition1 <- as.factor(total$Condition1)\n",
        "\n",
        "# #Condition2\n",
        "total$Condition2 <- as.factor(total$Condition2)\n",
        "\n",
        "# #Street\n",
        "total$Street<-as.integer(revalue(total$Street, c('Grvl'=0, 'Pave'=1)))\n",
        "\n",
        "# #PavedDrive\n",
        "total$PavedDrive<-as.integer(revalue(total$PavedDrive, c('N'=0, 'P'=1, 'Y'=2)))\n"
      ]
    },
    {
      "cell_type": "markdown",
      "metadata": {
        "id": "UyZ8u46QHz2j"
      },
      "source": [
        "**Changing 3 variables that are recorded numeric to categorical.**"
      ]
    },
    {
      "cell_type": "code",
      "execution_count": null,
      "metadata": {
        "id": "6DjoRzuAH7QH"
      },
      "outputs": [],
      "source": [
        "total$MoSold <- as.factor(total$MoSold)\n",
        "\n",
        "#MSSubClass\n",
        "total$MSSubClass <- as.factor(total$MSSubClass)\n",
        "\n",
        "total$MSSubClass<-revalue(total$MSSubClass, c('20'='1 story 1946+', '30'='1 story 1945-', '40'='1 story unf attic', '45'='1,5 story unf', '50'='1,5 story fin', '60'='2 story 1946+', '70'='2 story 1945-', '75'='2,5 story all ages', '80'='split/multi level', '85'='split foyer', '90'='duplex all style/age', '120'='1 story PUD 1946+', '150'='1,5 story PUD all', '160'='2 story PUD 1946+', '180'='PUD multilevel', '190'='2 family conversion'))"
      ]
    },
    {
      "cell_type": "code",
      "execution_count": null,
      "metadata": {
        "id": "RVQ07N2PIJG7",
        "colab": {
          "base_uri": "https://localhost:8080/",
          "height": 52
        },
        "outputId": "d87caee7-7196-40ec-cf4d-13fc8644b850"
      },
      "outputs": [
        {
          "output_type": "display_data",
          "data": {
            "text/html": [
              "56"
            ],
            "text/markdown": "56",
            "text/latex": "56",
            "text/plain": [
              "[1] 56"
            ]
          },
          "metadata": {}
        },
        {
          "output_type": "display_data",
          "data": {
            "text/html": [
              "23"
            ],
            "text/markdown": "23",
            "text/latex": "23",
            "text/plain": [
              "[1] 23"
            ]
          },
          "metadata": {}
        }
      ],
      "source": [
        "numVars <- which(sapply(total, is.numeric)) #index vector numeric variables\n",
        "factors <- which(sapply(total, is.factor)) #index vector factor variables\n",
        "length(numVars)\n",
        "length(factors)\n"
      ]
    },
    {
      "cell_type": "markdown",
      "metadata": {
        "id": "lmS3pEQ_lhfw"
      },
      "source": [
        "We can see that there are 56 numeric variables and 23 categoric variables"
      ]
    },
    {
      "cell_type": "code",
      "execution_count": null,
      "metadata": {
        "id": "yzsOjqfGJBIr",
        "colab": {
          "base_uri": "https://localhost:8080/",
          "height": 437
        },
        "outputId": "dc2e77d7-42f5-4271-e872-e07df6114c61"
      },
      "outputs": [
        {
          "output_type": "display_data",
          "data": {
            "text/plain": [
              "Plot with title “”"
            ],
            "image/png": "[encoded data removed]"
          },
          "metadata": {
            "image/png": {
              "width": 420,
              "height": 420
            }
          }
        }
      ],
      "source": [
        "#Plotting correlation again(remeber - can remove)\n",
        "\n",
        "total_numbvar <- total[, numVars]\n",
        "numbvar_cor <- cor(total_numbvar, use=\"pairwise.complete.obs\", method = \"pearson\")\n",
        "sort_cor <- as.matrix(sort(numbvar_cor[,'SalePrice'], decreasing = TRUE))\n",
        "\n",
        "# we will be selecting only high corelations\n",
        "maxcor <- names(which(apply(sort_cor, 1, function(x) abs(x)>0.5)))\n",
        "numbvar_cor <- numbvar_cor[maxcor, maxcor]\n",
        "\n",
        "# corrplot.mixed(numbvar_cor, tl.col=\"black\", tl.pos = \"lt\", tl.cex = 0.7,cl.cex = .7, number.cex=.7)\n",
        "\n",
        "corrplot.mixed(numbvar_cor, lower = 'number', upper = 'circle', order = 'original', tl.cex = 0.5, tl.offset = 3)\n",
        "# corrplot(numbvar_cor, method=\"number\")"
      ]
    },
    {
      "cell_type": "markdown",
      "metadata": {
        "id": "xqlCcv6_ne_r"
      },
      "source": [
        "As we can observe the number of variables with a correlation of at least 0.5 with the SalePrice has increased from 10"
      ]
    },
    {
      "cell_type": "code",
      "execution_count": null,
      "metadata": {
        "id": "GJRlVD1Gp_tv"
      },
      "outputs": [],
      "source": [
        "#remember - skipped vizualisation altogether"
      ]
    },
    {
      "cell_type": "markdown",
      "metadata": {
        "id": "MVo1jW4wp6GL"
      },
      "source": [
        "**correcting errors**"
      ]
    },
    {
      "cell_type": "code",
      "execution_count": null,
      "metadata": {
        "id": "Gim45D82mxFh"
      },
      "outputs": [],
      "source": [
        "total$GarageYrBlt[2593] <- 2007"
      ]
    },
    {
      "cell_type": "markdown",
      "metadata": {
        "id": "FcEwWO-qp0YR"
      },
      "source": [
        "**changing number of Bathrooms**"
      ]
    },
    {
      "cell_type": "code",
      "execution_count": null,
      "metadata": {
        "id": "IQ0pWy3XpQPi"
      },
      "outputs": [],
      "source": [
        "total$TotBathrooms <- total$FullBath + (total$HalfBath*0.5) + total$BsmtFullBath + (total$BsmtHalfBath*0.5)"
      ]
    },
    {
      "cell_type": "markdown",
      "metadata": {
        "id": "RhmIVxw1qQag"
      },
      "source": [
        "There are four variables in the bathroom. These variables are unimportant on their own. We assumed, however, that combining them into a single predictor would result in a strong predictor."
      ]
    },
    {
      "cell_type": "markdown",
      "metadata": {
        "id": "9aOpGVM2q-ag"
      },
      "source": [
        "**‘House Age’, ‘Remodeled (Yes/No)’, and IsNew variables**"
      ]
    },
    {
      "cell_type": "code",
      "execution_count": null,
      "metadata": {
        "id": "siy-TmjqqNJd"
      },
      "outputs": [],
      "source": [
        "total$Remod <- ifelse(total$YearBuilt==total$YearRemodAdd, 0, 1)\n",
        "total$Age <- as.numeric(total$YrSold)-total$YearRemodAdd"
      ]
    },
    {
      "cell_type": "code",
      "execution_count": null,
      "metadata": {
        "id": "fkTGYkJlrBgk",
        "colab": {
          "base_uri": "https://localhost:8080/",
          "height": 34
        },
        "outputId": "24b22ffb-8bff-49ec-d739-58387314be92"
      },
      "outputs": [
        {
          "output_type": "display_data",
          "data": {
            "text/html": [
              "-0.509078738015629"
            ],
            "text/markdown": "-0.509078738015629",
            "text/latex": "-0.509078738015629",
            "text/plain": [
              "[1] -0.5090787"
            ]
          },
          "metadata": {}
        }
      ],
      "source": [
        "cor(total$SalePrice[!is.na(total$SalePrice)], total$Age[!is.na(total$SalePrice)])\n"
      ]
    },
    {
      "cell_type": "markdown",
      "metadata": {
        "id": "IoTfjXmOre3H"
      },
      "source": [
        "As we suspected, we can see a negative correlation with Age which implies that aged houses are not worth(worthless)"
      ]
    },
    {
      "cell_type": "code",
      "execution_count": null,
      "metadata": {
        "id": "TXY_kplvrf-G"
      },
      "outputs": [],
      "source": [
        "#IsNew\n",
        "total$IsNew <- ifelse(total$YrSold==total$YearBuilt, 1, 0)\n"
      ]
    },
    {
      "cell_type": "markdown",
      "metadata": {
        "id": "G1Zy1nbCsC9R"
      },
      "source": [
        "These 116 new houses are distributed fairly evenly across the train and test set, and as you can see, new houses are significantly more valuable on average."
      ]
    },
    {
      "cell_type": "code",
      "execution_count": null,
      "metadata": {
        "id": "OkExHwkhrxYN"
      },
      "outputs": [],
      "source": [
        "#converting 'YrSold' variable to factor\n",
        "total$YrSold <- as.factor(total$YrSold)"
      ]
    },
    {
      "cell_type": "markdown",
      "metadata": {
        "id": "J0SDUKOVsV-d"
      },
      "source": [
        "since we needed the numeric version of YrSold earlier now we are converting it to factor as it completed it's purpose"
      ]
    },
    {
      "cell_type": "code",
      "execution_count": null,
      "metadata": {
        "id": "w278WnV8spKZ"
      },
      "outputs": [],
      "source": [
        "#Binning neighbourhood\n",
        "total$NeighRich[total$Neighborhood %in% c('StoneBr', 'NridgHt', 'NoRidge')] <- 2\n",
        "total$NeighRich[!total$Neighborhood %in% c('MeadowV', 'IDOTRR', 'BrDale', 'StoneBr', 'NridgHt', 'NoRidge')] <- 1\n",
        "total$NeighRich[total$Neighborhood %in% c('MeadowV', 'IDOTRR', 'BrDale')] <- 0"
      ]
    },
    {
      "cell_type": "markdown",
      "metadata": {
        "id": "PKIyH0DZs4b7"
      },
      "source": [
        "The median and mean sale prices agree on three neighborhoods with significantly higher sale prices. The distinction between the three relatively poor neighborhoods is less clear, but both graphs agree on the same three poor neighborhoods."
      ]
    },
    {
      "cell_type": "code",
      "execution_count": null,
      "metadata": {
        "id": "N01aTPLos49r"
      },
      "outputs": [],
      "source": [
        "#Total Square Feet\n",
        "total$TotalSqFeet <- total$GrLivArea + total$TotalBsmtSF\n"
      ]
    },
    {
      "cell_type": "markdown",
      "metadata": {
        "id": "SfrRrXzLuZsw"
      },
      "source": [
        "We are adding a predictor that adds up the living space above and below ground because total living space is generally very important when people buy houses."
      ]
    },
    {
      "cell_type": "code",
      "execution_count": null,
      "metadata": {
        "id": "EwuN8nm4uaYn",
        "colab": {
          "base_uri": "https://localhost:8080/",
          "height": 34
        },
        "outputId": "5b077296-c3a5-4301-b362-f3e35f0b017c"
      },
      "outputs": [
        {
          "output_type": "display_data",
          "data": {
            "text/html": [
              "0.778958828994226"
            ],
            "text/markdown": "0.778958828994226",
            "text/latex": "0.778958828994226",
            "text/plain": [
              "[1] 0.7789588"
            ]
          },
          "metadata": {}
        }
      ],
      "source": [
        "cor(total$SalePrice, total$TotalSqFeet, use= \"pairwise.complete.obs\", method =\"pearson\")\n"
      ]
    },
    {
      "cell_type": "markdown",
      "metadata": {
        "id": "xJUnBOSUvyX-"
      },
      "source": [
        "As suspected, the correlation with SalePrice is very strong."
      ]
    },
    {
      "cell_type": "code",
      "execution_count": null,
      "metadata": {
        "id": "3cWs2Symukqm",
        "colab": {
          "base_uri": "https://localhost:8080/",
          "height": 34
        },
        "outputId": "273fe174-5e9e-4358-91cc-a71bdba12085"
      },
      "outputs": [
        {
          "output_type": "display_data",
          "data": {
            "text/html": [
              "0.829041978106551"
            ],
            "text/markdown": "0.829041978106551",
            "text/latex": "0.829041978106551",
            "text/plain": [
              "[1] 0.829042"
            ]
          },
          "metadata": {}
        }
      ],
      "source": [
        "#correlation by removing potential outliers\n",
        "cor(total$SalePrice[-c(524, 1299)], total$TotalSqFeet[-c(524, 1299)], use= \"pairwise.complete.obs\", method = \"pearson\")\n"
      ]
    },
    {
      "cell_type": "markdown",
      "metadata": {
        "id": "TYoOCpWJwQrP"
      },
      "source": [
        "When these two outliers are removed, the correlation increases by 5%."
      ]
    },
    {
      "cell_type": "code",
      "execution_count": null,
      "metadata": {
        "id": "xEdV73l2wGNJ"
      },
      "outputs": [],
      "source": [
        "#Adding variables related to porch\n",
        "total$TotalPorchSF <- total$OpenPorchSF + total$EnclosedPorch + total$X3SsnPorch + total$ScreenPorch\n"
      ]
    },
    {
      "cell_type": "code",
      "execution_count": null,
      "metadata": {
        "id": "BrbYd1-lwzJy",
        "colab": {
          "base_uri": "https://localhost:8080/",
          "height": 34
        },
        "outputId": "640dcfbd-6d21-4f87-c15e-2ff071395c4c"
      },
      "outputs": [
        {
          "output_type": "display_data",
          "data": {
            "text/html": [
              "0.195738940783835"
            ],
            "text/markdown": "0.195738940783835",
            "text/latex": "0.195738940783835",
            "text/plain": [
              "[1] 0.1957389"
            ]
          },
          "metadata": {}
        }
      ],
      "source": [
        "cor(total$SalePrice, total$TotalPorchSF, use= \"pairwise.complete.obs\", method = \"pearson\")"
      ]
    },
    {
      "cell_type": "markdown",
      "metadata": {
        "id": "-mqCT6Z2xCa2"
      },
      "source": [
        "Though we consolidated the variables related to porch, it's correlation is still weak with SalePrice"
      ]
    },
    {
      "cell_type": "markdown",
      "metadata": {
        "id": "lcdkqkKwxOGQ"
      },
      "source": [
        "**Dealing with Highly correlated variables**"
      ]
    },
    {
      "cell_type": "code",
      "execution_count": null,
      "metadata": {
        "id": "plqVjEYQxBe_"
      },
      "outputs": [],
      "source": [
        "#dropping any variables which seem to have high correlation with other\n",
        "# Varsdel <- c('YearRemodAdd', 'GarageYrBlt', 'GarageArea', 'GarageCond', 'TotalBsmtSF', 'TotalRmsAbvGrd', 'BsmtFinSF1')\n",
        "total <- total[,!(names(total) %in% c('YearRemodAdd', 'GarageYrBlt', 'GarageArea', 'GarageCond', 'TotalBsmtSF', 'TotalRmsAbvGrd', 'BsmtFinSF1'))]"
      ]
    },
    {
      "cell_type": "markdown",
      "metadata": {
        "id": "X972zgW-x3fv"
      },
      "source": [
        "**Dealing with outliers**"
      ]
    },
    {
      "cell_type": "code",
      "execution_count": null,
      "metadata": {
        "id": "adQBPphrx0-D"
      },
      "outputs": [],
      "source": [
        "total <- total[-c(524, 1299),]"
      ]
    },
    {
      "cell_type": "markdown",
      "metadata": {
        "id": "eK47iczyyUXZ"
      },
      "source": [
        "removing the two biggest houses with low SalePrice."
      ]
    },
    {
      "cell_type": "markdown",
      "metadata": {
        "id": "go3drJWYyxr_"
      },
      "source": [
        "**Dealing with Predictor variables**"
      ]
    },
    {
      "cell_type": "code",
      "execution_count": null,
      "metadata": {
        "id": "nWzVWa8fx6Ao",
        "colab": {
          "base_uri": "https://localhost:8080/",
          "height": 52
        },
        "outputId": "a23460bd-7d4c-44dc-e313-3cb84e12517e"
      },
      "outputs": [
        {
          "output_type": "display_data",
          "data": {
            "text/html": [
              "30"
            ],
            "text/markdown": "30",
            "text/latex": "30",
            "text/plain": [
              "[1] 30"
            ]
          },
          "metadata": {}
        },
        {
          "output_type": "display_data",
          "data": {
            "text/html": [
              "49"
            ],
            "text/markdown": "49",
            "text/latex": "49",
            "text/plain": [
              "[1] 49"
            ]
          },
          "metadata": {}
        }
      ],
      "source": [
        "nums <- nums[!(nums %in% c('MSSubClass', 'MoSold', 'YrSold', 'SalePrice', 'OverallQual', 'OverallCond'))]\n",
        "nums <- append(nums, c('Age', 'TotalPorchSF', 'TotBathrooms', 'TotalSqFeet'))\n",
        "num_df <- total[, names(total) %in% nums]\n",
        "\n",
        "fact_df <- total[, !(names(total) %in% nums)]\n",
        "fact_df <- fact_df[, names(fact_df) != 'SalePrice']\n",
        "\n",
        "length(num_df)\n",
        "length(fact_df)"
      ]
    },
    {
      "cell_type": "markdown",
      "metadata": {
        "id": "s-oZEY2C0BSG"
      },
      "source": [
        "As we can observe there are 30 numeric variables and 49 factor variables"
      ]
    },
    {
      "cell_type": "markdown",
      "metadata": {
        "id": "dGfCYIjx00BP"
      },
      "source": [
        "**Skewness and normalizing numeric predictors**"
      ]
    },
    {
      "cell_type": "markdown",
      "metadata": {
        "id": "bTgGQhNk1I7a"
      },
      "source": [
        "As a rule of thumb, skewness should be between -1 and 1. In this range, data are considered fairly symmetrical. In order to fix the skewness, we are taking the log for all numeric predictors with an absolute skew greater than 0.8"
      ]
    },
    {
      "cell_type": "code",
      "execution_count": null,
      "metadata": {
        "id": "eMvCE1gZzBLf"
      },
      "outputs": [],
      "source": [
        "#Skewness\n",
        "for(i in 1:ncol(num_df)){\n",
        "        if (abs(skew(num_df[,i]))>0.8){\n",
        "                num_df[,i] <- log(num_df[,i] +1)\n",
        "        }\n",
        "}"
      ]
    },
    {
      "cell_type": "code",
      "execution_count": null,
      "metadata": {
        "id": "2MPzdwZC1VgR"
      },
      "outputs": [],
      "source": [
        "#Normalizing\n",
        "num_prep <- preProcess(num_df, method=c(\"center\", \"scale\"))\n",
        "norm_df <- predict(num_prep, num_df)"
      ]
    },
    {
      "cell_type": "markdown",
      "metadata": {
        "id": "xN3ReiNP9Tx3"
      },
      "source": [
        "**One hot encoding the categorical variables**"
      ]
    },
    {
      "cell_type": "markdown",
      "metadata": {
        "id": "-1kwGo-5-6lT"
      },
      "source": [
        "All (non-ordinal) factor values are given their own column with 1s and 0s (1 means Yes/Present). we are using the model.matrix() function to perform this one-time encoding."
      ]
    },
    {
      "cell_type": "code",
      "execution_count": null,
      "metadata": {
        "id": "nfgym-Ye2rqR"
      },
      "outputs": [],
      "source": [
        "dummyvars <- as.data.frame(model.matrix(~.-1, fact_df))"
      ]
    },
    {
      "cell_type": "code",
      "execution_count": null,
      "metadata": {
        "id": "jbqcIQjRA8s6",
        "colab": {
          "base_uri": "https://localhost:8080/",
          "height": 34
        },
        "outputId": "ca892fd7-de3b-4276-a88a-6f45ba2806d5"
      },
      "outputs": [
        {
          "output_type": "display_data",
          "data": {
            "text/html": [
              "<style>\n",
              ".list-inline {list-style: none; margin:0; padding: 0}\n",
              ".list-inline>li {display: inline-block}\n",
              ".list-inline>li:not(:last-child)::after {content: \"\\00b7\"; padding: 0 .5ex}\n",
              "</style>\n",
              "<ol class=list-inline><li>2917</li><li>201</li></ol>\n"
            ],
            "text/markdown": "1. 2917\n2. 201\n\n\n",
            "text/latex": "\\begin{enumerate*}\n\\item 2917\n\\item 201\n\\end{enumerate*}\n",
            "text/plain": [
              "[1] 2917  201"
            ]
          },
          "metadata": {}
        }
      ],
      "source": [
        "dim(dummyvars)"
      ]
    },
    {
      "cell_type": "markdown",
      "metadata": {
        "id": "hLH1vRLJ-er3"
      },
      "source": [
        "**Removing observations in train or test**\n"
      ]
    },
    {
      "cell_type": "code",
      "execution_count": null,
      "metadata": {
        "id": "FmM6uzyK-Qrf"
      },
      "outputs": [],
      "source": [
        "#checking if some values are absent in the test set\n",
        "col_zero_test <- which(colSums(dummyvars[(nrow(total[!is.na(total$SalePrice),])+1):nrow(total),])==0)\n"
      ]
    },
    {
      "cell_type": "code",
      "execution_count": null,
      "metadata": {
        "id": "XlZcdtZd_KkT",
        "colab": {
          "base_uri": "https://localhost:8080/",
          "height": 34
        },
        "outputId": "53469629-16aa-4a42-e0bc-3f0e4e340635"
      },
      "outputs": [
        {
          "output_type": "display_data",
          "data": {
            "text/html": [
              "<style>\n",
              ".list-inline {list-style: none; margin:0; padding: 0}\n",
              ".list-inline>li {display: inline-block}\n",
              ".list-inline>li:not(:last-child)::after {content: \"\\00b7\"; padding: 0 .5ex}\n",
              "</style>\n",
              "<ol class=list-inline><li>2917</li><li>188</li></ol>\n"
            ],
            "text/markdown": "1. 2917\n2. 188\n\n\n",
            "text/latex": "\\begin{enumerate*}\n\\item 2917\n\\item 188\n\\end{enumerate*}\n",
            "text/plain": [
              "[1] 2917  188"
            ]
          },
          "metadata": {}
        }
      ],
      "source": [
        "#removing predictors\n",
        "dummyvars <- dummyvars[,-col_zero_test]\n",
        "dim(dummyvars)"
      ]
    },
    {
      "cell_type": "code",
      "execution_count": null,
      "metadata": {
        "id": "NCNmUtH0_ig-"
      },
      "outputs": [],
      "source": [
        "#checking if some values are absent in the train set(remember - no otuput here unlike kaggle with 3 columns)\n",
        "col_zero_train <- which(colSums(dummyvars[1:nrow(total[!is.na(total$SalePrice),]),])==0)"
      ]
    },
    {
      "cell_type": "code",
      "execution_count": null,
      "metadata": {
        "id": "pMkGs4mrAkEK"
      },
      "outputs": [],
      "source": [
        "#removing predictor\n",
        "dummyvars <- dummyvars[,-col_zero_train]"
      ]
    },
    {
      "cell_type": "code",
      "execution_count": null,
      "metadata": {
        "id": "uLe4fBazAo-g",
        "colab": {
          "base_uri": "https://localhost:8080/",
          "height": 121
        },
        "outputId": "5fa7e3e6-1d00-49a0-927a-70f92fdb382b"
      },
      "outputs": [
        {
          "output_type": "display_data",
          "data": {
            "text/html": [
              "<style>\n",
              ".list-inline {list-style: none; margin:0; padding: 0}\n",
              ".list-inline>li {display: inline-block}\n",
              ".list-inline>li:not(:last-child)::after {content: \"\\00b7\"; padding: 0 .5ex}\n",
              "</style>\n",
              "<ol class=list-inline><li>'MSSubClass1 story unf attic'</li><li>'LotConfigFR3'</li><li>'NeighborhoodBlueste'</li><li>'NeighborhoodNPkVill'</li><li>'Condition1PosA'</li><li>'Condition1RRNe'</li><li>'Condition1RRNn'</li><li>'Condition2Feedr'</li><li>'Condition2PosA'</li><li>'Condition2PosN'</li><li>'RoofStyleMansard'</li><li>'RoofStyleShed'</li><li>'RoofMatlWdShake'</li><li>'RoofMatlWdShngl'</li><li>'Exterior1stAsphShn'</li><li>'Exterior1stBrkComm'</li><li>'Exterior1stCBlock'</li><li>'Exterior2ndAsphShn'</li><li>'Exterior2ndBrk Cmn'</li><li>'Exterior2ndCBlock'</li><li>'Exterior2ndStone'</li><li>'FoundationStone'</li><li>'FoundationWood'</li><li>'HeatingGrav'</li><li>'HeatingWall'</li><li>'ElectricalFuseP'</li><li>'GarageTypeCarPort'</li><li>'MiscFeatureOthr'</li><li>'SaleTypeCon'</li><li>'SaleTypeConLD'</li><li>'SaleTypeConLI'</li><li>'SaleTypeConLw'</li><li>'SaleTypeCWD'</li><li>'SaleTypeOth'</li><li>'SaleConditionAdjLand'</li></ol>\n"
            ],
            "text/markdown": "1. 'MSSubClass1 story unf attic'\n2. 'LotConfigFR3'\n3. 'NeighborhoodBlueste'\n4. 'NeighborhoodNPkVill'\n5. 'Condition1PosA'\n6. 'Condition1RRNe'\n7. 'Condition1RRNn'\n8. 'Condition2Feedr'\n9. 'Condition2PosA'\n10. 'Condition2PosN'\n11. 'RoofStyleMansard'\n12. 'RoofStyleShed'\n13. 'RoofMatlWdShake'\n14. 'RoofMatlWdShngl'\n15. 'Exterior1stAsphShn'\n16. 'Exterior1stBrkComm'\n17. 'Exterior1stCBlock'\n18. 'Exterior2ndAsphShn'\n19. 'Exterior2ndBrk Cmn'\n20. 'Exterior2ndCBlock'\n21. 'Exterior2ndStone'\n22. 'FoundationStone'\n23. 'FoundationWood'\n24. 'HeatingGrav'\n25. 'HeatingWall'\n26. 'ElectricalFuseP'\n27. 'GarageTypeCarPort'\n28. 'MiscFeatureOthr'\n29. 'SaleTypeCon'\n30. 'SaleTypeConLD'\n31. 'SaleTypeConLI'\n32. 'SaleTypeConLw'\n33. 'SaleTypeCWD'\n34. 'SaleTypeOth'\n35. 'SaleConditionAdjLand'\n\n\n",
            "text/latex": "\\begin{enumerate*}\n\\item 'MSSubClass1 story unf attic'\n\\item 'LotConfigFR3'\n\\item 'NeighborhoodBlueste'\n\\item 'NeighborhoodNPkVill'\n\\item 'Condition1PosA'\n\\item 'Condition1RRNe'\n\\item 'Condition1RRNn'\n\\item 'Condition2Feedr'\n\\item 'Condition2PosA'\n\\item 'Condition2PosN'\n\\item 'RoofStyleMansard'\n\\item 'RoofStyleShed'\n\\item 'RoofMatlWdShake'\n\\item 'RoofMatlWdShngl'\n\\item 'Exterior1stAsphShn'\n\\item 'Exterior1stBrkComm'\n\\item 'Exterior1stCBlock'\n\\item 'Exterior2ndAsphShn'\n\\item 'Exterior2ndBrk Cmn'\n\\item 'Exterior2ndCBlock'\n\\item 'Exterior2ndStone'\n\\item 'FoundationStone'\n\\item 'FoundationWood'\n\\item 'HeatingGrav'\n\\item 'HeatingWall'\n\\item 'ElectricalFuseP'\n\\item 'GarageTypeCarPort'\n\\item 'MiscFeatureOthr'\n\\item 'SaleTypeCon'\n\\item 'SaleTypeConLD'\n\\item 'SaleTypeConLI'\n\\item 'SaleTypeConLw'\n\\item 'SaleTypeCWD'\n\\item 'SaleTypeOth'\n\\item 'SaleConditionAdjLand'\n\\end{enumerate*}\n",
            "text/plain": [
              " [1] \"MSSubClass1 story unf attic\" \"LotConfigFR3\"               \n",
              " [3] \"NeighborhoodBlueste\"         \"NeighborhoodNPkVill\"        \n",
              " [5] \"Condition1PosA\"              \"Condition1RRNe\"             \n",
              " [7] \"Condition1RRNn\"              \"Condition2Feedr\"            \n",
              " [9] \"Condition2PosA\"              \"Condition2PosN\"             \n",
              "[11] \"RoofStyleMansard\"            \"RoofStyleShed\"              \n",
              "[13] \"RoofMatlWdShake\"             \"RoofMatlWdShngl\"            \n",
              "[15] \"Exterior1stAsphShn\"          \"Exterior1stBrkComm\"         \n",
              "[17] \"Exterior1stCBlock\"           \"Exterior2ndAsphShn\"         \n",
              "[19] \"Exterior2ndBrk Cmn\"          \"Exterior2ndCBlock\"          \n",
              "[21] \"Exterior2ndStone\"            \"FoundationStone\"            \n",
              "[23] \"FoundationWood\"              \"HeatingGrav\"                \n",
              "[25] \"HeatingWall\"                 \"ElectricalFuseP\"            \n",
              "[27] \"GarageTypeCarPort\"           \"MiscFeatureOthr\"            \n",
              "[29] \"SaleTypeCon\"                 \"SaleTypeConLD\"              \n",
              "[31] \"SaleTypeConLI\"               \"SaleTypeConLw\"              \n",
              "[33] \"SaleTypeCWD\"                 \"SaleTypeOth\"                \n",
              "[35] \"SaleConditionAdjLand\"       "
            ]
          },
          "metadata": {}
        }
      ],
      "source": [
        "low1s <- which(colSums(dummyvars[1:nrow(total[!is.na(total$SalePrice),]),])<10)\n",
        "colnames(dummyvars[low1s])"
      ]
    },
    {
      "cell_type": "code",
      "execution_count": null,
      "metadata": {
        "id": "4hriyazkAyiY",
        "colab": {
          "base_uri": "https://localhost:8080/",
          "height": 34
        },
        "outputId": "e85c6276-b2e3-41ce-df1e-4bd307e774ee"
      },
      "outputs": [
        {
          "output_type": "display_data",
          "data": {
            "text/html": [
              "<style>\n",
              ".list-inline {list-style: none; margin:0; padding: 0}\n",
              ".list-inline>li {display: inline-block}\n",
              ".list-inline>li:not(:last-child)::after {content: \"\\00b7\"; padding: 0 .5ex}\n",
              "</style>\n",
              "<ol class=list-inline><li>2917</li><li>152</li></ol>\n"
            ],
            "text/markdown": "1. 2917\n2. 152\n\n\n",
            "text/latex": "\\begin{enumerate*}\n\\item 2917\n\\item 152\n\\end{enumerate*}\n",
            "text/plain": [
              "[1] 2917  152"
            ]
          },
          "metadata": {}
        }
      ],
      "source": [
        "#removing predictors\n",
        "\n",
        "dummyvars <- dummyvars[,-low1s]\n",
        "dim(dummyvars)\n"
      ]
    },
    {
      "cell_type": "markdown",
      "metadata": {
        "id": "FeP4fLsRCPN0"
      },
      "source": [
        "We removed 49 one-hot encoded predictors with little or no variance in total. Although this appears to be a significant number, it is actually much less than the number of predictors removed using Caret's near zero variance function (using its default thresholds)."
      ]
    },
    {
      "cell_type": "code",
      "execution_count": null,
      "metadata": {
        "id": "CAvmFC-nAzrg"
      },
      "outputs": [],
      "source": [
        "#combining all now numeric predictors\n",
        "mixed <- cbind(norm_df, dummyvars)"
      ]
    },
    {
      "cell_type": "markdown",
      "metadata": {
        "id": "08kxXKihCgk8"
      },
      "source": [
        "**Dealing with skewness of SalePrice**"
      ]
    },
    {
      "cell_type": "code",
      "execution_count": null,
      "metadata": {
        "id": "YOq3iicICcwO",
        "colab": {
          "base_uri": "https://localhost:8080/",
          "height": 34
        },
        "outputId": "c8634433-cfc5-429f-8e2a-a5dfbdc18b0c"
      },
      "outputs": [
        {
          "output_type": "display_data",
          "data": {
            "text/html": [
              "1.87742727908891"
            ],
            "text/markdown": "1.87742727908891",
            "text/latex": "1.87742727908891",
            "text/plain": [
              "[1] 1.877427"
            ]
          },
          "metadata": {}
        }
      ],
      "source": [
        "skew(total$SalePrice)\n"
      ]
    },
    {
      "cell_type": "code",
      "execution_count": null,
      "metadata": {
        "id": "kq_YbhTxCvuI",
        "colab": {
          "base_uri": "https://localhost:8080/",
          "height": 437
        },
        "outputId": "672528c1-3148-46cc-e8ab-265b278cd987"
      },
      "outputs": [
        {
          "output_type": "display_data",
          "data": {
            "text/plain": [
              "Plot with title “Normal Q-Q Plot”"
            ],
            "image/png": "[encoded data removed]"
          },
          "metadata": {
            "image/png": {
              "width": 420,
              "height": 420
            }
          }
        }
      ],
      "source": [
        "qqnorm(total$SalePrice)\n",
        "qqline(total$SalePrice)"
      ]
    },
    {
      "cell_type": "markdown",
      "metadata": {
        "id": "0PxKDhOPDED0"
      },
      "source": [
        "The skew of 1.87 indicates an excessive right skew, and the Q-Q plot demonstrates that sale prices are also not normally distributed. To resolve this, we will examine the SalePrice log."
      ]
    },
    {
      "cell_type": "code",
      "execution_count": null,
      "metadata": {
        "id": "gjItarzQC6fL",
        "colab": {
          "base_uri": "https://localhost:8080/",
          "height": 34
        },
        "outputId": "8e9843b9-3ba8-40e2-aaee-949d48e821c3"
      },
      "outputs": [
        {
          "output_type": "display_data",
          "data": {
            "text/html": [
              "0.12131818845227"
            ],
            "text/markdown": "0.12131818845227",
            "text/latex": "0.12131818845227",
            "text/plain": [
              "[1] 0.1213182"
            ]
          },
          "metadata": {}
        }
      ],
      "source": [
        "total$SalePrice <- log(total$SalePrice)\n",
        "skew(total$SalePrice)"
      ]
    },
    {
      "cell_type": "markdown",
      "metadata": {
        "id": "pWetDz_eDiO3"
      },
      "source": [
        "**Creating Train and Test Data**"
      ]
    },
    {
      "cell_type": "code",
      "execution_count": null,
      "metadata": {
        "id": "cxFsONPEDOPD",
        "colab": {
          "base_uri": "https://localhost:8080/",
          "height": 52
        },
        "outputId": "2e814cfc-8e12-446d-9931-c752e30cca99"
      },
      "outputs": [
        {
          "output_type": "display_data",
          "data": {
            "text/html": [
              "<style>\n",
              ".list-inline {list-style: none; margin:0; padding: 0}\n",
              ".list-inline>li {display: inline-block}\n",
              ".list-inline>li:not(:last-child)::after {content: \"\\00b7\"; padding: 0 .5ex}\n",
              "</style>\n",
              "<ol class=list-inline><li>1458</li><li>182</li></ol>\n"
            ],
            "text/markdown": "1. 1458\n2. 182\n\n\n",
            "text/latex": "\\begin{enumerate*}\n\\item 1458\n\\item 182\n\\end{enumerate*}\n",
            "text/plain": [
              "[1] 1458  182"
            ]
          },
          "metadata": {}
        },
        {
          "output_type": "display_data",
          "data": {
            "text/html": [
              "<style>\n",
              ".list-inline {list-style: none; margin:0; padding: 0}\n",
              ".list-inline>li {display: inline-block}\n",
              ".list-inline>li:not(:last-child)::after {content: \"\\00b7\"; padding: 0 .5ex}\n",
              "</style>\n",
              "<ol class=list-inline><li>1459</li><li>182</li></ol>\n"
            ],
            "text/markdown": "1. 1459\n2. 182\n\n\n",
            "text/latex": "\\begin{enumerate*}\n\\item 1459\n\\item 182\n\\end{enumerate*}\n",
            "text/plain": [
              "[1] 1459  182"
            ]
          },
          "metadata": {}
        }
      ],
      "source": [
        "train_set <- mixed[!is.na(total$SalePrice),]\n",
        "test_set <- mixed[is.na(total$SalePrice),]\n",
        "dim(train_set)\n",
        "dim(test_set)"
      ]
    },
    {
      "cell_type": "code",
      "execution_count": null,
      "metadata": {
        "id": "32_hbXnVocoa",
        "colab": {
          "base_uri": "https://localhost:8080/"
        },
        "outputId": "8e30c0dd-8229-4696-f278-5df0df825eb4"
      },
      "outputs": [
        {
          "output_type": "stream",
          "name": "stderr",
          "text": [
            "Installing package into ‘/usr/local/lib/R/site-library’\n",
            "(as ‘lib’ is unspecified)\n",
            "\n",
            "also installing the dependencies ‘shape’, ‘RcppEigen’\n",
            "\n",
            "\n"
          ]
        }
      ],
      "source": [
        "install.packages(\"glmnet\")"
      ]
    },
    {
      "cell_type": "code",
      "execution_count": null,
      "metadata": {
        "id": "_UI9m2M5pO2f",
        "colab": {
          "base_uri": "https://localhost:8080/"
        },
        "outputId": "491f0cfe-5b56-4f65-c873-b9c811c000cd"
      },
      "outputs": [
        {
          "output_type": "stream",
          "name": "stderr",
          "text": [
            "Loading required package: Matrix\n",
            "\n",
            "\n",
            "Attaching package: ‘Matrix’\n",
            "\n",
            "\n",
            "The following objects are masked from ‘package:tidyr’:\n",
            "\n",
            "    expand, pack, unpack\n",
            "\n",
            "\n",
            "Loaded glmnet 4.1-6\n",
            "\n"
          ]
        }
      ],
      "source": [
        "library(glmnet)"
      ]
    },
    {
      "cell_type": "code",
      "execution_count": null,
      "metadata": {
        "id": "6hsYBQq7jMt1",
        "colab": {
          "base_uri": "https://localhost:8080/",
          "height": 129
        },
        "outputId": "34b98a3e-d34b-4749-8551-3d345000b064"
      },
      "outputs": [
        {
          "output_type": "display_data",
          "data": {
            "text/html": [
              "<table class=\"dataframe\">\n",
              "<caption>A data.frame: 1 × 2</caption>\n",
              "<thead>\n",
              "\t<tr><th></th><th scope=col>alpha</th><th scope=col>lambda</th></tr>\n",
              "\t<tr><th></th><th scope=col>&lt;dbl&gt;</th><th scope=col>&lt;dbl&gt;</th></tr>\n",
              "</thead>\n",
              "<tbody>\n",
              "\t<tr><th scope=row>1</th><td>1</td><td>0.001</td></tr>\n",
              "</tbody>\n",
              "</table>\n"
            ],
            "text/markdown": "\nA data.frame: 1 × 2\n\n| <!--/--> | alpha &lt;dbl&gt; | lambda &lt;dbl&gt; |\n|---|---|---|\n| 1 | 1 | 0.001 |\n\n",
            "text/latex": "A data.frame: 1 × 2\n\\begin{tabular}{r|ll}\n  & alpha & lambda\\\\\n  & <dbl> & <dbl>\\\\\n\\hline\n\t1 & 1 & 0.001\\\\\n\\end{tabular}\n",
            "text/plain": [
              "  alpha lambda\n",
              "1 1     0.001 "
            ]
          },
          "metadata": {}
        }
      ],
      "source": [
        "#Lasso Regression\n",
        "set.seed(27042018)\n",
        "my_control <-trainControl(method=\"cv\", number=5)\n",
        "lassoGrid <- expand.grid(alpha = 1, lambda = seq(0.001,0.1,by = 0.0005))\n",
        "\n",
        "lasso_mod <- train(x=train_set, y=total$SalePrice[!is.na(total$SalePrice)], method='glmnet', trControl= my_control, tuneGrid=lassoGrid)\n",
        "lasso_mod$bestTune"
      ]
    },
    {
      "cell_type": "code",
      "execution_count": null,
      "metadata": {
        "id": "L7bpGzHxkLex",
        "colab": {
          "base_uri": "https://localhost:8080/",
          "height": 437
        },
        "outputId": "e01152e4-b850-4347-f206-974ad4ead0e7"
      },
      "outputs": [
        {
          "output_type": "display_data",
          "data": {
            "text/plain": [
              "plot without title"
            ],
            "image/png": "[encoded data removed]"
          },
          "metadata": {
            "image/png": {
              "width": 420,
              "height": 420
            }
          }
        }
      ],
      "source": [
        "plot(lasso_mod)"
      ]
    },
    {
      "cell_type": "code",
      "execution_count": null,
      "metadata": {
        "id": "JtUrPwPRpmA0",
        "colab": {
          "base_uri": "https://localhost:8080/",
          "height": 34
        },
        "outputId": "def50133-3960-4f99-9c62-a13b95070e3f"
      },
      "outputs": [
        {
          "output_type": "display_data",
          "data": {
            "text/html": [
              "0.112732474617651"
            ],
            "text/markdown": "0.112732474617651",
            "text/latex": "0.112732474617651",
            "text/plain": [
              "[1] 0.1127325"
            ]
          },
          "metadata": {}
        }
      ],
      "source": [
        "min(lasso_mod$results$RMSE)"
      ]
    },
    {
      "cell_type": "code",
      "execution_count": null,
      "metadata": {
        "id": "MaNs8KdDp2dp",
        "colab": {
          "base_uri": "https://localhost:8080/",
          "height": 472
        },
        "outputId": "81d860b0-bdfe-475b-d56b-b0dd13c46152"
      },
      "outputs": [
        {
          "output_type": "display_data",
          "data": {
            "text/html": [
              "714350.461494119"
            ],
            "text/markdown": "714350.461494119",
            "text/latex": "714350.461494119",
            "text/plain": [
              "[1] 714350.5"
            ]
          },
          "metadata": {}
        },
        {
          "output_type": "display_data",
          "data": {
            "text/html": [
              "46320.6096753408"
            ],
            "text/markdown": "46320.6096753408",
            "text/latex": "46320.6096753408",
            "text/plain": [
              "[1] 46320.61"
            ]
          },
          "metadata": {}
        },
        {
          "output_type": "display_data",
          "data": {
            "text/plain": [
              "Plot with title “Predictions of Lasso Regression”"
            ],
            "image/png": "[encoded data removed]"
          },
          "metadata": {
            "image/png": {
              "width": 420,
              "height": 420
            }
          }
        }
      ],
      "source": [
        "LassoPred <- predict(lasso_mod, test_set)\n",
        "predictions_lasso <- exp(LassoPred) #need to reverse the log to the real values\n",
        "max(predictions_lasso)\n",
        "min(predictions_lasso)\n",
        "hist(predictions_lasso, xlab = 'SalePrice', main = 'Predictions of Lasso Regression', col = 'green')"
      ]
    },
    {
      "cell_type": "code",
      "execution_count": null,
      "metadata": {
        "id": "B90L3nuBcyTx"
      },
      "outputs": [],
      "source": [
        "#XGboost Algorithm\n",
        "xgb_grid = expand.grid(\n",
        "nrounds = 1000,\n",
        "eta = c(0.1, 0.05, 0.01),\n",
        "max_depth = c(2, 3, 4, 5, 6),\n",
        "gamma = 0,\n",
        "colsample_bytree=1,\n",
        "min_child_weight=c(1, 2, 3, 4 ,5),\n",
        "subsample=1\n",
        ")"
      ]
    },
    {
      "cell_type": "code",
      "execution_count": null,
      "metadata": {
        "id": "2tqiswNDeChp",
        "colab": {
          "base_uri": "https://localhost:8080/",
          "height": 306
        },
        "outputId": "0095966a-e4ae-45bc-9fd5-dd644de88351"
      },
      "outputs": [
        {
          "output_type": "display_data",
          "data": {
            "text/html": [
              "<table class=\"dataframe\">\n",
              "<caption>A data.frame: 6 × 80</caption>\n",
              "<thead>\n",
              "\t<tr><th></th><th scope=col>MSSubClass</th><th scope=col>MSZoning</th><th scope=col>LotFrontage</th><th scope=col>LotArea</th><th scope=col>Street</th><th scope=col>Alley</th><th scope=col>LotShape</th><th scope=col>LandContour</th><th scope=col>Utilities</th><th scope=col>LotConfig</th><th scope=col>⋯</th><th scope=col>PoolArea</th><th scope=col>PoolQC</th><th scope=col>Fence</th><th scope=col>MiscFeature</th><th scope=col>MiscVal</th><th scope=col>MoSold</th><th scope=col>YrSold</th><th scope=col>SaleType</th><th scope=col>SaleCondition</th><th scope=col>SalePrice</th></tr>\n",
              "\t<tr><th></th><th scope=col>&lt;int&gt;</th><th scope=col>&lt;chr&gt;</th><th scope=col>&lt;int&gt;</th><th scope=col>&lt;int&gt;</th><th scope=col>&lt;chr&gt;</th><th scope=col>&lt;chr&gt;</th><th scope=col>&lt;chr&gt;</th><th scope=col>&lt;chr&gt;</th><th scope=col>&lt;chr&gt;</th><th scope=col>&lt;chr&gt;</th><th scope=col>⋯</th><th scope=col>&lt;int&gt;</th><th scope=col>&lt;chr&gt;</th><th scope=col>&lt;chr&gt;</th><th scope=col>&lt;chr&gt;</th><th scope=col>&lt;int&gt;</th><th scope=col>&lt;int&gt;</th><th scope=col>&lt;int&gt;</th><th scope=col>&lt;chr&gt;</th><th scope=col>&lt;chr&gt;</th><th scope=col>&lt;int&gt;</th></tr>\n",
              "</thead>\n",
              "<tbody>\n",
              "\t<tr><th scope=row>1</th><td>60</td><td>RL</td><td>65</td><td> 8450</td><td>Pave</td><td>NA</td><td>Reg</td><td>Lvl</td><td>AllPub</td><td>Inside</td><td>⋯</td><td>0</td><td>NA</td><td>NA   </td><td>NA  </td><td>  0</td><td> 2</td><td>2008</td><td>WD</td><td>Normal </td><td>208500</td></tr>\n",
              "\t<tr><th scope=row>2</th><td>20</td><td>RL</td><td>80</td><td> 9600</td><td>Pave</td><td>NA</td><td>Reg</td><td>Lvl</td><td>AllPub</td><td>FR2   </td><td>⋯</td><td>0</td><td>NA</td><td>NA   </td><td>NA  </td><td>  0</td><td> 5</td><td>2007</td><td>WD</td><td>Normal </td><td>181500</td></tr>\n",
              "\t<tr><th scope=row>3</th><td>60</td><td>RL</td><td>68</td><td>11250</td><td>Pave</td><td>NA</td><td>IR1</td><td>Lvl</td><td>AllPub</td><td>Inside</td><td>⋯</td><td>0</td><td>NA</td><td>NA   </td><td>NA  </td><td>  0</td><td> 9</td><td>2008</td><td>WD</td><td>Normal </td><td>223500</td></tr>\n",
              "\t<tr><th scope=row>4</th><td>70</td><td>RL</td><td>60</td><td> 9550</td><td>Pave</td><td>NA</td><td>IR1</td><td>Lvl</td><td>AllPub</td><td>Corner</td><td>⋯</td><td>0</td><td>NA</td><td>NA   </td><td>NA  </td><td>  0</td><td> 2</td><td>2006</td><td>WD</td><td>Abnorml</td><td>140000</td></tr>\n",
              "\t<tr><th scope=row>5</th><td>60</td><td>RL</td><td>84</td><td>14260</td><td>Pave</td><td>NA</td><td>IR1</td><td>Lvl</td><td>AllPub</td><td>FR2   </td><td>⋯</td><td>0</td><td>NA</td><td>NA   </td><td>NA  </td><td>  0</td><td>12</td><td>2008</td><td>WD</td><td>Normal </td><td>250000</td></tr>\n",
              "\t<tr><th scope=row>6</th><td>50</td><td>RL</td><td>85</td><td>14115</td><td>Pave</td><td>NA</td><td>IR1</td><td>Lvl</td><td>AllPub</td><td>Inside</td><td>⋯</td><td>0</td><td>NA</td><td>MnPrv</td><td>Shed</td><td>700</td><td>10</td><td>2009</td><td>WD</td><td>Normal </td><td>143000</td></tr>\n",
              "</tbody>\n",
              "</table>\n"
            ],
            "text/markdown": "\nA data.frame: 6 × 80\n\n| <!--/--> | MSSubClass &lt;int&gt; | MSZoning &lt;chr&gt; | LotFrontage &lt;int&gt; | LotArea &lt;int&gt; | Street &lt;chr&gt; | Alley &lt;chr&gt; | LotShape &lt;chr&gt; | LandContour &lt;chr&gt; | Utilities &lt;chr&gt; | LotConfig &lt;chr&gt; | ⋯ ⋯ | PoolArea &lt;int&gt; | PoolQC &lt;chr&gt; | Fence &lt;chr&gt; | MiscFeature &lt;chr&gt; | MiscVal &lt;int&gt; | MoSold &lt;int&gt; | YrSold &lt;int&gt; | SaleType &lt;chr&gt; | SaleCondition &lt;chr&gt; | SalePrice &lt;int&gt; |\n|---|---|---|---|---|---|---|---|---|---|---|---|---|---|---|---|---|---|---|---|---|---|\n| 1 | 60 | RL | 65 |  8450 | Pave | NA | Reg | Lvl | AllPub | Inside | ⋯ | 0 | NA | NA    | NA   |   0 |  2 | 2008 | WD | Normal  | 208500 |\n| 2 | 20 | RL | 80 |  9600 | Pave | NA | Reg | Lvl | AllPub | FR2    | ⋯ | 0 | NA | NA    | NA   |   0 |  5 | 2007 | WD | Normal  | 181500 |\n| 3 | 60 | RL | 68 | 11250 | Pave | NA | IR1 | Lvl | AllPub | Inside | ⋯ | 0 | NA | NA    | NA   |   0 |  9 | 2008 | WD | Normal  | 223500 |\n| 4 | 70 | RL | 60 |  9550 | Pave | NA | IR1 | Lvl | AllPub | Corner | ⋯ | 0 | NA | NA    | NA   |   0 |  2 | 2006 | WD | Abnorml | 140000 |\n| 5 | 60 | RL | 84 | 14260 | Pave | NA | IR1 | Lvl | AllPub | FR2    | ⋯ | 0 | NA | NA    | NA   |   0 | 12 | 2008 | WD | Normal  | 250000 |\n| 6 | 50 | RL | 85 | 14115 | Pave | NA | IR1 | Lvl | AllPub | Inside | ⋯ | 0 | NA | MnPrv | Shed | 700 | 10 | 2009 | WD | Normal  | 143000 |\n\n",
            "text/latex": "A data.frame: 6 × 80\n\\begin{tabular}{r|lllllllllllllllllllll}\n  & MSSubClass & MSZoning & LotFrontage & LotArea & Street & Alley & LotShape & LandContour & Utilities & LotConfig & ⋯ & PoolArea & PoolQC & Fence & MiscFeature & MiscVal & MoSold & YrSold & SaleType & SaleCondition & SalePrice\\\\\n  & <int> & <chr> & <int> & <int> & <chr> & <chr> & <chr> & <chr> & <chr> & <chr> & ⋯ & <int> & <chr> & <chr> & <chr> & <int> & <int> & <int> & <chr> & <chr> & <int>\\\\\n\\hline\n\t1 & 60 & RL & 65 &  8450 & Pave & NA & Reg & Lvl & AllPub & Inside & ⋯ & 0 & NA & NA    & NA   &   0 &  2 & 2008 & WD & Normal  & 208500\\\\\n\t2 & 20 & RL & 80 &  9600 & Pave & NA & Reg & Lvl & AllPub & FR2    & ⋯ & 0 & NA & NA    & NA   &   0 &  5 & 2007 & WD & Normal  & 181500\\\\\n\t3 & 60 & RL & 68 & 11250 & Pave & NA & IR1 & Lvl & AllPub & Inside & ⋯ & 0 & NA & NA    & NA   &   0 &  9 & 2008 & WD & Normal  & 223500\\\\\n\t4 & 70 & RL & 60 &  9550 & Pave & NA & IR1 & Lvl & AllPub & Corner & ⋯ & 0 & NA & NA    & NA   &   0 &  2 & 2006 & WD & Abnorml & 140000\\\\\n\t5 & 60 & RL & 84 & 14260 & Pave & NA & IR1 & Lvl & AllPub & FR2    & ⋯ & 0 & NA & NA    & NA   &   0 & 12 & 2008 & WD & Normal  & 250000\\\\\n\t6 & 50 & RL & 85 & 14115 & Pave & NA & IR1 & Lvl & AllPub & Inside & ⋯ & 0 & NA & MnPrv & Shed & 700 & 10 & 2009 & WD & Normal  & 143000\\\\\n\\end{tabular}\n",
            "text/plain": [
              "  MSSubClass MSZoning LotFrontage LotArea Street Alley LotShape LandContour\n",
              "1 60         RL       65           8450   Pave   NA    Reg      Lvl        \n",
              "2 20         RL       80           9600   Pave   NA    Reg      Lvl        \n",
              "3 60         RL       68          11250   Pave   NA    IR1      Lvl        \n",
              "4 70         RL       60           9550   Pave   NA    IR1      Lvl        \n",
              "5 60         RL       84          14260   Pave   NA    IR1      Lvl        \n",
              "6 50         RL       85          14115   Pave   NA    IR1      Lvl        \n",
              "  Utilities LotConfig ⋯ PoolArea PoolQC Fence MiscFeature MiscVal MoSold YrSold\n",
              "1 AllPub    Inside    ⋯ 0        NA     NA    NA            0      2     2008  \n",
              "2 AllPub    FR2       ⋯ 0        NA     NA    NA            0      5     2007  \n",
              "3 AllPub    Inside    ⋯ 0        NA     NA    NA            0      9     2008  \n",
              "4 AllPub    Corner    ⋯ 0        NA     NA    NA            0      2     2006  \n",
              "5 AllPub    FR2       ⋯ 0        NA     NA    NA            0     12     2008  \n",
              "6 AllPub    Inside    ⋯ 0        NA     MnPrv Shed        700     10     2009  \n",
              "  SaleType SaleCondition SalePrice\n",
              "1 WD       Normal        208500   \n",
              "2 WD       Normal        181500   \n",
              "3 WD       Normal        223500   \n",
              "4 WD       Abnorml       140000   \n",
              "5 WD       Normal        250000   \n",
              "6 WD       Normal        143000   "
            ]
          },
          "metadata": {}
        }
      ],
      "source": [
        "head(train_data)"
      ]
    },
    {
      "cell_type": "code",
      "execution_count": null,
      "metadata": {
        "id": "kKg7G9utc69B"
      },
      "outputs": [],
      "source": [
        "#xgb_caret <- train(x=train_set, y=total$SalePrice[!is.na(total$SalePrice)], method='xgbTree', trControl= my_control, tuneGrid=xgb_grid)\n",
        "#xgb_caret$bestTune"
      ]
    },
    {
      "cell_type": "code",
      "execution_count": null,
      "metadata": {
        "id": "NmNSou-NdHMb"
      },
      "outputs": [],
      "source": [
        "label_train <- total$SalePrice[!is.na(total$SalePrice)]\n",
        "\n",
        "# put our testing & training data into two seperates Dmatrixs objects\n",
        "dtrain <- xgb.DMatrix(data = as.matrix(train_set), label= label_train)\n",
        "dtest <- xgb.DMatrix(data = as.matrix(test_set))"
      ]
    },
    {
      "cell_type": "code",
      "execution_count": null,
      "metadata": {
        "id": "JyP3U9IqkqNm"
      },
      "outputs": [],
      "source": [
        "default_param<-list(\n",
        "        objective = \"reg:linear\",\n",
        "        booster = \"gbtree\",\n",
        "        eta=0.05, #default = 0.3\n",
        "        gamma=0,\n",
        "        max_depth=3, #default=6\n",
        "        min_child_weight=4, #default=1\n",
        "        subsample=1,\n",
        "        colsample_bytree=1\n",
        ")"
      ]
    },
    {
      "cell_type": "code",
      "execution_count": null,
      "metadata": {
        "id": "IYDYurY7kqvE",
        "colab": {
          "base_uri": "https://localhost:8080/"
        },
        "outputId": "850e6cf9-1a4f-4926-eb67-fb198c0b61d9"
      },
      "outputs": [
        {
          "output_type": "stream",
          "name": "stdout",
          "text": [
            "[19:19:46] WARNING: amalgamation/../src/objective/regression_obj.cu:203: reg:linear is now deprecated in favor of reg:squarederror.\n",
            "[19:19:46] WARNING: amalgamation/../src/objective/regression_obj.cu:203: reg:linear is now deprecated in favor of reg:squarederror.\n",
            "[19:19:46] WARNING: amalgamation/../src/objective/regression_obj.cu:203: reg:linear is now deprecated in favor of reg:squarederror.\n",
            "[19:19:46] WARNING: amalgamation/../src/objective/regression_obj.cu:203: reg:linear is now deprecated in favor of reg:squarederror.\n",
            "[19:19:46] WARNING: amalgamation/../src/objective/regression_obj.cu:203: reg:linear is now deprecated in favor of reg:squarederror.\n",
            "[1]\ttrain-rmse:10.955591+0.002932\ttest-rmse:10.955585+0.012488 \n",
            "Multiple eval metrics are present. Will use test_rmse for early stopping.\n",
            "Will train until test_rmse hasn't improved in 10 rounds.\n",
            "\n",
            "[41]\ttrain-rmse:1.428311+0.000464\ttest-rmse:1.428382+0.012494 \n",
            "[81]\ttrain-rmse:0.219766+0.001659\ttest-rmse:0.231947+0.006573 \n",
            "[121]\ttrain-rmse:0.102248+0.003789\ttest-rmse:0.131319+0.012609 \n",
            "[161]\ttrain-rmse:0.090327+0.003994\ttest-rmse:0.124869+0.014878 \n",
            "[201]\ttrain-rmse:0.084247+0.004008\ttest-rmse:0.122347+0.015334 \n",
            "[241]\ttrain-rmse:0.079650+0.003961\ttest-rmse:0.120995+0.015561 \n",
            "[281]\ttrain-rmse:0.075776+0.003835\ttest-rmse:0.120059+0.015758 \n",
            "[321]\ttrain-rmse:0.072562+0.003506\ttest-rmse:0.119395+0.015965 \n",
            "[361]\ttrain-rmse:0.069639+0.003193\ttest-rmse:0.118947+0.016176 \n",
            "[401]\ttrain-rmse:0.067079+0.002905\ttest-rmse:0.118693+0.016294 \n",
            "Stopping. Best iteration:\n",
            "[395]\ttrain-rmse:0.067438+0.002936\ttest-rmse:0.118662+0.016314\n",
            "\n"
          ]
        }
      ],
      "source": [
        "xgbcv <- xgb.cv( params = default_param, data = dtrain, nrounds = 500, nfold = 5, showsd = T, stratified = T, print_every_n = 40, early_stopping_rounds = 10, maximize = F)"
      ]
    },
    {
      "cell_type": "code",
      "execution_count": null,
      "metadata": {
        "id": "2rBE9gzokx4F",
        "colab": {
          "base_uri": "https://localhost:8080/"
        },
        "outputId": "5a8c437d-515e-40da-a477-2b9eea3f19c0"
      },
      "outputs": [
        {
          "output_type": "stream",
          "name": "stdout",
          "text": [
            "[19:19:54] WARNING: amalgamation/../src/objective/regression_obj.cu:203: reg:linear is now deprecated in favor of reg:squarederror.\n"
          ]
        }
      ],
      "source": [
        "#train the model using the best iteration found by cross validation\n",
        "xgb.model <- xgb.train(data = dtrain, params=default_param, nrounds = 392)"
      ]
    },
    {
      "cell_type": "code",
      "execution_count": null,
      "metadata": {
        "id": "ZbnTGb52lCDc",
        "colab": {
          "base_uri": "https://localhost:8080/",
          "height": 454
        },
        "outputId": "40409a59-b3be-4080-febe-12fc42fec71b"
      },
      "outputs": [
        {
          "output_type": "display_data",
          "data": {
            "text/html": [
              "<style>\n",
              ".list-inline {list-style: none; margin:0; padding: 0}\n",
              ".list-inline>li {display: inline-block}\n",
              ".list-inline>li:not(:last-child)::after {content: \"\\00b7\"; padding: 0 .5ex}\n",
              "</style>\n",
              "<ol class=list-inline><li>116444.350785901</li><li>162106.2017264</li><li>185921.268441406</li><li>186864.985441438</li><li>188678.08436725</li><li>165818.659062432</li></ol>\n"
            ],
            "text/markdown": "1. 116444.350785901\n2. 162106.2017264\n3. 185921.268441406\n4. 186864.985441438\n5. 188678.08436725\n6. 165818.659062432\n\n\n",
            "text/latex": "\\begin{enumerate*}\n\\item 116444.350785901\n\\item 162106.2017264\n\\item 185921.268441406\n\\item 186864.985441438\n\\item 188678.08436725\n\\item 165818.659062432\n\\end{enumerate*}\n",
            "text/plain": [
              "[1] 116444.4 162106.2 185921.3 186865.0 188678.1 165818.7"
            ]
          },
          "metadata": {}
        },
        {
          "output_type": "display_data",
          "data": {
            "text/plain": [
              "Plot with title “Predictions of XGBoost Regression”"
            ],
            "image/png": "[encoded data removed]"
          },
          "metadata": {
            "image/png": {
              "width": 420,
              "height": 420
            }
          }
        }
      ],
      "source": [
        "XGBpred <- predict(xgb.model, dtest)\n",
        "predictions_XGB <- exp(XGBpred) #need to reverse the log to the real values\n",
        "head(predictions_XGB)\n",
        "hist(predictions_XGB, xlab = 'SalePrice', main = 'Predictions of XGBoost Regression')"
      ]
    },
    {
      "cell_type": "code",
      "execution_count": null,
      "metadata": {
        "id": "MsK8MVZ5ldyX",
        "colab": {
          "base_uri": "https://localhost:8080/"
        },
        "outputId": "f2101cf0-1a57-4c94-ade7-2d681e7510b6"
      },
      "outputs": [
        {
          "output_type": "stream",
          "name": "stderr",
          "text": [
            "Installing package into ‘/usr/local/lib/R/site-library’\n",
            "(as ‘lib’ is unspecified)\n",
            "\n",
            "also installing the dependencies ‘rbibutils’, ‘Rdpack’\n",
            "\n",
            "\n"
          ]
        }
      ],
      "source": [
        "install.packages(\"Ckmeans.1d.dp\")"
      ]
    },
    {
      "cell_type": "code",
      "execution_count": null,
      "metadata": {
        "id": "3JLpxC2FlRja",
        "colab": {
          "base_uri": "https://localhost:8080/",
          "height": 437
        },
        "outputId": "558916d1-645d-4e84-b4ab-730c38d362a6"
      },
      "outputs": [
        {
          "output_type": "display_data",
          "data": {
            "text/plain": [
              "plot without title"
            ],
            "image/png": "[encoded data removed]"
          },
          "metadata": {
            "image/png": {
              "width": 420,
              "height": 420
            }
          }
        }
      ],
      "source": [
        "#view variable importance plot\n",
        "library(Ckmeans.1d.dp) #required for ggplot clustering\n",
        "mat <- xgb.importance (feature_names = colnames(train_set),model = xgb.model)\n",
        "xgb.ggplot.importance(importance_matrix = mat[1:20], rel_to_first = TRUE)"
      ]
    }
  ],
  "metadata": {
    "accelerator": "GPU",
    "colab": {
      "provenance": []
    },
    "gpuClass": "standard",
    "kernelspec": {
      "display_name": "R",
      "name": "ir"
    },
    "language_info": {
      "name": "R"
    }
  },
  "nbformat": 4,
  "nbformat_minor": 0
}